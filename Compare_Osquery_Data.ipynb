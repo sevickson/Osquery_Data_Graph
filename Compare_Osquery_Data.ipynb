{
 "cells": [
  {
   "cell_type": "markdown",
   "metadata": {},
   "source": [
    "# Merge Osquery Data from different systems\n",
    "After running Osquery on different systems use this Jupyter Notebook to add the data into one big CSV file."
   ]
  },
  {
   "cell_type": "markdown",
   "metadata": {},
   "source": [
    "## Import needed modules"
   ]
  },
  {
   "cell_type": "code",
   "execution_count": null,
   "metadata": {},
   "outputs": [],
   "source": [
    "# Standard modules to use and manipulate dataframes\n",
    "import numpy as np\n",
    "import pandas as pd"
   ]
  },
  {
   "cell_type": "markdown",
   "metadata": {},
   "source": [
    "## Variables and Functions"
   ]
  },
  {
   "cell_type": "code",
   "execution_count": null,
   "metadata": {},
   "outputs": [],
   "source": [
    "location = %pwd\n",
    "csvlocation = location + \"\\\\CSV\\\\\""
   ]
  },
  {
   "cell_type": "code",
   "execution_count": null,
   "metadata": {},
   "outputs": [],
   "source": [
    "def read_csv_data(filename):\n",
    "    df_r = pd.read_csv(csvlocation + filename)\n",
    "    return(df_r)"
   ]
  },
  {
   "cell_type": "markdown",
   "metadata": {},
   "source": [
    "## Read-in Osquery Data"
   ]
  },
  {
   "cell_type": "code",
   "execution_count": null,
   "metadata": {
    "tags": []
   },
   "outputs": [],
   "source": [
    "#Read in data\n",
    "data_orig = read_csv_data('data_total_dup_LNX.csv')\n",
    "data_add = read_csv_data('data_total_dup_WIN.csv')\n",
    "\n",
    "#NOFILTER\n",
    "print(data_orig.shape)\n",
    "print(data_add.shape)"
   ]
  },
  {
   "cell_type": "markdown",
   "metadata": {},
   "source": [
    "## Create the `hash` based on same `anon` and filter them out\n",
    "The `anon` data is used per DataFrame, if the DataFrame already has the `hash` columns skip it, otherwise the data will not be correct anymore. As you can get collisions with same `anon` but different `hash` because off the addition of other DataFrame to that data. "
   ]
  },
  {
   "cell_type": "code",
   "execution_count": null,
   "metadata": {
    "tags": []
   },
   "outputs": [],
   "source": [
    "if not 'hash' in data_orig:\n",
    "    #groupby and create hash of connections\n",
    "    dict_orig_hash = pd.util.hash_pandas_object(data_orig.groupby('anon')['Table.Column'].apply(', '.join), index=False).to_dict()\n",
    "    #add hash to df\n",
    "    data_orig['hash'] = data_orig['anon'].map(dict_orig_hash)\n",
    "    print(data_orig.shape)\n",
    "\n",
    "if not 'hash' in data_add:\n",
    "    #groupby and create hash of connections\n",
    "    dict_add_hash = pd.util.hash_pandas_object(data_add.groupby('anon')['Table.Column'].apply(', '.join), index=False).to_dict()\n",
    "    #add hash to df\n",
    "    data_add['hash'] = data_add['anon'].map(dict_add_hash)\n",
    "    print(data_add.shape)"
   ]
  },
  {
   "cell_type": "code",
   "execution_count": null,
   "metadata": {},
   "outputs": [],
   "source": [
    "#find out hashes that are in `data_add` and not in `data_orig`, if you change the order you will get more looking at the other DF but that is not a correct view.\n",
    "data_add_diff = data_add[~data_add.hash.isin(data_orig.hash)].sort_values(by='hash')\n",
    "data_add_diff.shape"
   ]
  },
  {
   "cell_type": "code",
   "execution_count": null,
   "metadata": {},
   "outputs": [],
   "source": [
    "data_add_diff.nunique()"
   ]
  },
  {
   "cell_type": "markdown",
   "metadata": {},
   "source": [
    "## Add the diff data to the source data\n",
    "Drop `anon` column as it is not unique anymore."
   ]
  },
  {
   "cell_type": "code",
   "execution_count": null,
   "metadata": {
    "tags": []
   },
   "outputs": [],
   "source": [
    "FORMAT = ['Table','Table.Column','Column','hash'] #,'anon'\n",
    "data_add_diff = data_add_diff[FORMAT]\n",
    "data_orig = data_orig[FORMAT]\n",
    "print(data_orig.shape)\n",
    "print(data_add_diff.shape)\n",
    "data_total = pd.concat([data_add_diff,data_orig])\n",
    "print(data_total.shape)\n",
    "data_total.to_csv(csvlocation + 'data_total_dup_LNX+WIN.csv', index=False)"
   ]
  },
  {
   "cell_type": "code",
   "execution_count": null,
   "metadata": {},
   "outputs": [],
   "source": []
  }
 ],
 "metadata": {
  "language_info": {
   "codemirror_mode": {
    "name": "ipython",
    "version": 3
   },
   "file_extension": ".py",
   "mimetype": "text/x-python",
   "name": "python",
   "nbconvert_exporter": "python",
   "pygments_lexer": "ipython3",
   "version": "3.7.4-final"
  },
  "orig_nbformat": 2,
  "kernelspec": {
   "name": "python3",
   "display_name": "Python 3"
  }
 },
 "nbformat": 4,
 "nbformat_minor": 2
}