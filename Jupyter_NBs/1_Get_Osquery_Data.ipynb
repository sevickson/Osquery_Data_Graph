{
 "cells": [
  {
   "cell_type": "markdown",
   "metadata": {},
   "source": [
    "## Imports and Functions"
   ]
  },
  {
   "cell_type": "code",
   "execution_count": null,
   "metadata": {
    "tags": []
   },
   "outputs": [],
   "source": [
    "import shutil\n",
    "if shutil.which(\"python3\") is None:\n",
    "    !python -m pip install -q --upgrade --user pip\n",
    "    !python -m pip install -q --upgrade --user -r requirements.txt \n",
    "else:\n",
    "    !python3 -m pip install -q --upgrade --user pip\n",
    "    !python3 -m pip install -q --upgrade --user -r requirements.txt "
   ]
  },
  {
   "cell_type": "code",
   "execution_count": null,
   "metadata": {
    "tags": []
   },
   "outputs": [],
   "source": [
    "%run \"./REQ/Imports_Functions.ipynb\""
   ]
  },
  {
   "cell_type": "markdown",
   "metadata": {},
   "source": [
    "## Choose Linux WSL Distribution"
   ]
  },
  {
   "cell_type": "code",
   "execution_count": null,
   "metadata": {},
   "outputs": [],
   "source": [
    "display(distro_dd)"
   ]
  },
  {
   "cell_type": "code",
   "execution_count": null,
   "metadata": {
    "tags": []
   },
   "outputs": [],
   "source": [
    "VM_Name = distro_dd.result\n",
    "print(\"Using:\",VM_Name, \"distribution\")"
   ]
  },
  {
   "cell_type": "code",
   "execution_count": null,
   "metadata": {},
   "outputs": [],
   "source": [
    "username = 'user_jupyter'\n",
    "#use getpass to fill in password at runtime\n",
    "password = '' #getpass.getpass()"
   ]
  },
  {
   "cell_type": "code",
   "execution_count": null,
   "metadata": {},
   "outputs": [],
   "source": [
    "#If needed VS Code\n",
    "!wsl -d {VM_Name} code ."
   ]
  },
  {
   "cell_type": "markdown",
   "metadata": {},
   "source": [
    "## Install Osquery on WSL"
   ]
  },
  {
   "cell_type": "code",
   "execution_count": null,
   "metadata": {
    "tags": []
   },
   "outputs": [],
   "source": [
    "install_osquery_wsl_linux(wsl_osq)"
   ]
  },
  {
   "cell_type": "markdown",
   "metadata": {},
   "source": [
    "## Install Osquery on Linux"
   ]
  },
  {
   "cell_type": "code",
   "execution_count": null,
   "metadata": {
    "tags": []
   },
   "outputs": [],
   "source": [
    "install_osquery_wsl_linux(lnx_osq)"
   ]
  },
  {
   "cell_type": "markdown",
   "metadata": {},
   "source": [
    "## Install Osquery on Windows"
   ]
  },
  {
   "cell_type": "code",
   "execution_count": null,
   "metadata": {
    "tags": []
   },
   "outputs": [],
   "source": [
    "install_osquery_windows(win_osq)"
   ]
  },
  {
   "cell_type": "markdown",
   "metadata": {},
   "source": [
    "## Get Osquery data WSL - JSON output"
   ]
  },
  {
   "cell_type": "code",
   "execution_count": null,
   "metadata": {
    "tags": []
   },
   "outputs": [],
   "source": [
    "wsl_tables = osquery_tables_os(wsl_osq)\n",
    "run_osquery_wsl_linux(wsl_osq,pwsl,wsl_tables,twsllocation)"
   ]
  },
  {
   "cell_type": "markdown",
   "metadata": {},
   "source": [
    "## Get Osquery data Linux - JSON output\n",
    "This works directly on the Linux system."
   ]
  },
  {
   "cell_type": "code",
   "execution_count": null,
   "metadata": {
    "tags": []
   },
   "outputs": [],
   "source": [
    "lnx_tables = osquery_tables_os(lnx_osq)\n",
    "run_osquery_wsl_linux(lnx_osq,pl,lnx_tables,tllocation)"
   ]
  },
  {
   "cell_type": "markdown",
   "metadata": {},
   "source": [
    "## Get Osquery data Windows - JSON output\n",
    "**Consider running this part of the Jupyter Notebook once as Administrator to get data from all the tables, if not admin results from tables like `bitlocker_info` will be empty**"
   ]
  },
  {
   "cell_type": "code",
   "execution_count": null,
   "metadata": {
    "tags": []
   },
   "outputs": [],
   "source": [
    "windows_tables = osquery_tables_os(win_osq)\n",
    "run_osquery_windows(pw,windows_tables,twlocation)"
   ]
  },
  {
   "cell_type": "markdown",
   "metadata": {},
   "source": [
    "## Handling Osquery data\n",
    "### Windows\n",
    "Create a DataFrame from the data extracted from Osquery."
   ]
  },
  {
   "cell_type": "code",
   "execution_count": null,
   "metadata": {
    "tags": []
   },
   "outputs": [],
   "source": [
    "data_extract_win = osquery_data_extract(pw)\n",
    "extract_df_win = pd.DataFrame([t for lst in data_extract_win for t in lst], columns = ['Table.Column','Data'])\n",
    "print(extract_df_win.shape)"
   ]
  },
  {
   "cell_type": "markdown",
   "metadata": {},
   "source": [
    "Make Table and Column columns, remove empty or NULL entries.  \n",
    "Filter out all entries with 2 or less characters in the Data field, these entries are too generic to make good joins."
   ]
  },
  {
   "cell_type": "code",
   "execution_count": null,
   "metadata": {
    "tags": []
   },
   "outputs": [],
   "source": [
    "filtered_data_win = filter_osquery_data(extract_df_win)\n",
    "print(filtered_data_win.shape)"
   ]
  },
  {
   "cell_type": "markdown",
   "metadata": {},
   "source": [
    "Anonymize the data and remove the Data column."
   ]
  },
  {
   "cell_type": "code",
   "execution_count": null,
   "metadata": {
    "tags": []
   },
   "outputs": [],
   "source": [
    "print(filtered_data_win.columns)\n",
    "filtered_data_win_anon = anonymize_data(filtered_data_win)\n",
    "print(filtered_data_win_anon.columns)"
   ]
  },
  {
   "cell_type": "markdown",
   "metadata": {},
   "source": [
    "Save CSV with only basic filtering"
   ]
  },
  {
   "cell_type": "code",
   "execution_count": null,
   "metadata": {
    "tags": []
   },
   "outputs": [],
   "source": [
    "print(filtered_data_win_anon.shape)\n",
    "filtered_data_win_anon.to_csv(location + '\\\\Data\\\\data_for_graphs_full_windows.csv',index=False)"
   ]
  },
  {
   "cell_type": "markdown",
   "metadata": {},
   "source": [
    "Create DataFrame with only duplicata data.  \n",
    "Save CSV with duplicate filtering."
   ]
  },
  {
   "cell_type": "code",
   "execution_count": null,
   "metadata": {
    "tags": []
   },
   "outputs": [],
   "source": [
    "filtered_data_win_anon_dup = get_dup_data(filtered_data_win)\n",
    "print(filtered_data_win_anon_dup.shape)\n",
    "filtered_data_win_anon_dup.to_csv(location + '\\\\Data\\\\data_for_graphs_dup_windows.csv',index=False)"
   ]
  },
  {
   "cell_type": "markdown",
   "metadata": {},
   "source": [
    "### Linux\n",
    "Create a DataFrame from the data extracted from Osquery."
   ]
  },
  {
   "cell_type": "code",
   "execution_count": null,
   "metadata": {
    "tags": []
   },
   "outputs": [],
   "source": [
    "data_extract_lin = osquery_data_extract(pl)\n",
    "extract_df_lin = pd.DataFrame([t for lst in data_extract_lin for t in lst], columns = ['Table.Column','Data'])\n",
    "print(extract_df_lin.shape)"
   ]
  },
  {
   "cell_type": "markdown",
   "metadata": {},
   "source": [
    "Make Table and Column columns, remove empty or NULL entries.  \n",
    "Filter out all entries with 2 or less characters in the Data field, these entries are too generic to make good joins."
   ]
  },
  {
   "cell_type": "code",
   "execution_count": null,
   "metadata": {
    "tags": []
   },
   "outputs": [],
   "source": [
    "print(extract_df_lin.shape)\n",
    "filtered_data_lin = filter_osquery_data(extract_df_lin)\n",
    "print(filtered_data_lin.shape)"
   ]
  },
  {
   "cell_type": "markdown",
   "metadata": {},
   "source": [
    "Anonymize the data and remove the Data column."
   ]
  },
  {
   "cell_type": "code",
   "execution_count": null,
   "metadata": {
    "tags": []
   },
   "outputs": [],
   "source": [
    "print(filtered_data_lin.columns)\n",
    "filtered_data_lin_anon = anonymize_data(filtered_data_lin)\n",
    "print(filtered_data_lin_anon.columns)"
   ]
  },
  {
   "cell_type": "markdown",
   "metadata": {},
   "source": [
    "Save CSV with only basic filtering"
   ]
  },
  {
   "cell_type": "code",
   "execution_count": null,
   "metadata": {},
   "outputs": [],
   "source": [
    "print(filtered_data_lin_anon.shape)\n",
    "filtered_data_lin_anon.to_csv(location + '\\\\Data\\\\data_for_graphs_full_linux.csv',index=False)"
   ]
  },
  {
   "cell_type": "markdown",
   "metadata": {},
   "source": [
    "Create DataFrame with only duplicata data.  \n",
    "Save CSV with duplicate filtering."
   ]
  },
  {
   "cell_type": "code",
   "execution_count": null,
   "metadata": {
    "tags": []
   },
   "outputs": [],
   "source": [
    "filtered_data_lin_anon_dup = get_dup_data(filtered_data_lin)\n",
    "print(filtered_data_lin_anon_dup.shape)\n",
    "filtered_data_lin_anon_dup.to_csv(location + '\\\\Data\\\\data_for_graphs_dup_linux.csv',index=False)"
   ]
  }
 ],
 "metadata": {
  "kernelspec": {
   "display_name": "osquery_graph_venv",
   "language": "python",
   "name": "osquery_graph_venv"
  },
  "language_info": {
   "codemirror_mode": {
    "name": "ipython",
    "version": 3
   },
   "file_extension": ".py",
   "mimetype": "text/x-python",
   "name": "python",
   "nbconvert_exporter": "python",
   "pygments_lexer": "ipython3",
   "version": "3.7.4"
  }
 },
 "nbformat": 4,
 "nbformat_minor": 4
}