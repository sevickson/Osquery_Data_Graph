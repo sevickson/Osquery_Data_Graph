{
 "cells": [
  {
   "cell_type": "markdown",
   "metadata": {},
   "source": [
    "## Install packages if needed\n",
    "Upgrade `pip` if needed.  \n",
    "Install the needed Requirements.  \n",
    "Checking with `which` if the command on the system is python3 or python."
   ]
  },
  {
   "cell_type": "code",
   "execution_count": 1,
   "metadata": {
    "tags": []
   },
   "outputs": [],
   "source": [
    "import shutil\n",
    "if shutil.which(\"python3\") is None:\n",
    "    !python -m pip install -q --upgrade --user pip\n",
    "    !python -m pip install -q --upgrade --user -r requirements.txt \n",
    "else:\n",
    "    !python3 -m pip install -q --upgrade --user pip\n",
    "    !python3 -m pip install -q --upgrade --user -r requirements.txt "
   ]
  },
  {
   "cell_type": "markdown",
   "metadata": {},
   "source": [
    "Created a separate Jupyter Notebook with the functions and variables to keep this one clean, import it below."
   ]
  },
  {
   "cell_type": "code",
   "execution_count": 2,
   "metadata": {
    "tags": []
   },
   "outputs": [
    {
     "output_type": "stream",
     "name": "stdout",
     "text": "c:\\Users\\kwidamas\\Desktop\\Notebooks\\OSQUERY\\Osquery_Data_Graph\n"
    }
   ],
   "source": [
    "%run \"./REQ/Imports_Functions_Graph.ipynb\""
   ]
  },
  {
   "cell_type": "markdown",
   "metadata": {},
   "source": [
    "Check version of the `graphistry` package."
   ]
  },
  {
   "cell_type": "code",
   "execution_count": 3,
   "metadata": {},
   "outputs": [
    {
     "output_type": "execute_result",
     "data": {
      "text/plain": "'0.11.7'"
     },
     "metadata": {},
     "execution_count": 3
    }
   ],
   "source": [
    "graphistry.__version__"
   ]
  },
  {
   "cell_type": "markdown",
   "metadata": {},
   "source": [
    "## Linux\n",
    "Import the data to create the Graphistry graph.  \n",
    "Use the intersect function to group the Table and Columns based on the anon data to create the Intersect column to use for the JOINs.\n"
   ]
  },
  {
   "cell_type": "code",
   "execution_count": 5,
   "metadata": {
    "tags": []
   },
   "outputs": [
    {
     "output_type": "execute_result",
     "data": {
      "text/plain": "(9487, 5)"
     },
     "metadata": {},
     "execution_count": 5
    }
   ],
   "source": [
    "extract_df_lnx_dup = read_csv_data('data_total_dup_LNX.csv')\n",
    "extract_df_lnx_dup.shape\n",
    "intersect_df_lnx_dup = intersect(extract_df_lnx_dup)\n",
    "intersect_df_lnx_dup.shape"
   ]
  },
  {
   "cell_type": "markdown",
   "metadata": {},
   "source": [
    "## Windows\n",
    "Import the data to create the Graphistry graph.  \n",
    "Use the intersect function to group the Table and Columns based on the anon data to create the Intersect column to use for the JOINs."
   ]
  },
  {
   "cell_type": "code",
   "execution_count": 6,
   "metadata": {
    "tags": []
   },
   "outputs": [
    {
     "output_type": "execute_result",
     "data": {
      "text/plain": "(4581, 5)"
     },
     "metadata": {},
     "execution_count": 6
    }
   ],
   "source": [
    "extract_df_win_dup = read_csv_data('data_total_dup_WIN.csv')\n",
    "extract_df_win_dup.shape\n",
    "intersect_df_win_dup = intersect(extract_df_win_dup)\n",
    "intersect_df_win_dup.shape"
   ]
  },
  {
   "cell_type": "markdown",
   "metadata": {},
   "source": [
    "## macOS\n",
    "Import the data to create the Graphistry graph.  \n",
    "Use the intersect function to group the Table and Columns based on the anon data to create the Intersect column to use for the JOINs."
   ]
  },
  {
   "cell_type": "code",
   "execution_count": 4,
   "metadata": {},
   "outputs": [
    {
     "output_type": "execute_result",
     "data": {
      "text/plain": "(8795, 5)"
     },
     "metadata": {},
     "execution_count": 4
    }
   ],
   "source": [
    "extract_df_mac_dup = read_csv_data('data_total_dup_MAC.csv')\n",
    "extract_df_mac_dup.shape\n",
    "intersect_df_mac_dup = intersect(extract_df_mac_dup)\n",
    "intersect_df_mac_dup.shape"
   ]
  },
  {
   "cell_type": "markdown",
   "metadata": {},
   "source": [
    "# GRAPHS"
   ]
  },
  {
   "cell_type": "markdown",
   "metadata": {},
   "source": [
    "## Graphistry APIv3\n",
    "In the graph toggle the histogram for `point:​pointIcon` and toggle \"Show using icon\" to get the icons in the graph."
   ]
  },
  {
   "cell_type": "markdown",
   "metadata": {},
   "source": [
    "## Linux Graph"
   ]
  },
  {
   "cell_type": "code",
   "execution_count": null,
   "metadata": {
    "tags": []
   },
   "outputs": [],
   "source": [
    "gl, plotl = graphistry_graph(3,intersect_df_lnx_dup)\n",
    "plotl"
   ]
  },
  {
   "cell_type": "code",
   "execution_count": null,
   "metadata": {
    "tags": []
   },
   "outputs": [],
   "source": [
    "gl._nodes"
   ]
  },
  {
   "cell_type": "markdown",
   "metadata": {},
   "source": [
    "## Windows Graph"
   ]
  },
  {
   "cell_type": "code",
   "execution_count": null,
   "metadata": {
    "tags": []
   },
   "outputs": [],
   "source": [
    "gw, plotw = graphistry_graph(3,intersect_df_win_dup) \n",
    "plotw"
   ]
  },
  {
   "cell_type": "code",
   "execution_count": null,
   "metadata": {},
   "outputs": [],
   "source": [
    "#gw_nodes = gw._nodes\n",
    "#gw.nodes"
   ]
  },
  {
   "cell_type": "code",
   "execution_count": null,
   "metadata": {},
   "outputs": [],
   "source": [
    "plotw"
   ]
  },
  {
   "cell_type": "markdown",
   "metadata": {},
   "source": [
    "## macOS Graph"
   ]
  },
  {
   "cell_type": "code",
   "execution_count": 8,
   "metadata": {
    "tags": []
   },
   "outputs": [
    {
     "output_type": "stream",
     "name": "stdout",
     "text": "# links 17590\n# events 8795\n# attrib entities 1051\n"
    },
    {
     "output_type": "execute_result",
     "data": {
      "text/plain": "'https://hub.graphistry.com/graph/graph.html?dataset=b65bf3a2534f497eb586ea17770470d8&type=arrow&viztoken=a94d1413-a552-49d4-8fcf-7325f5386f41&usertag=8c4f1429-pygraphistry-0.11.7&splashAfter=1594842116&info=true&play=10000&showArrows=false&lockedR=true&bg=%23FFFFFF&linLog=true&edgeCurvature=0.05&edgeOpacity=0.2'"
     },
     "metadata": {},
     "execution_count": 8
    }
   ],
   "source": [
    "gm, plotm = graphistry_graph(3,intersect_df_mac_dup) "
   ]
  },
  {
   "cell_type": "code",
   "execution_count": 16,
   "metadata": {},
   "outputs": [
    {
     "output_type": "execute_result",
     "data": {
      "text/plain": "'https://hub.graphistry.com/graph/graph.html?dataset=b65bf3a2534f497eb586ea17770470d8&type=arrow&viztoken=a94d1413-a552-49d4-8fcf-7325f5386f41&usertag=8c4f1429-pygraphistry-0.11.7&splashAfter=1594842116&info=true&play=10000&showArrows=false&lockedR=true&bg=%23FFFFFF&linLog=true&edgeCurvature=0.05&edgeOpacity=0.2'"
     },
     "metadata": {},
     "execution_count": 16
    }
   ],
   "source": [
    "plotm"
   ]
  },
  {
   "cell_type": "markdown",
   "metadata": {},
   "source": [
    "### References:\n",
    "- https://minimizeuncertainty.com/post/graph-visualization-of-the-mueller-report-with-spacy-and-pyvis/  \n",
    "- https://stackoverflow.com/questions/56764504/how-to-insert-a-image-in-pyvis-python-network-graph  \n",
    "- https://stackoverflow.com/questions/31567401/get-the-same-hash-value-for-a-pandas-dataframe-each-time/41715431  \n",
    "- https://github.com/graphistry/pygraphistry  \n",
    "- https://pbpython.com/currency-cleanup.html\n",
    "- http://veekaybee.github.io/2020/02/25/secrets/\n",
    "- https://github.com/marketplace/actions/treebeard-continuous-integration-for-python-data-science-supporting-jupyter-notebooks\n",
    "- https://github.com/marketplace/actions/super-linter\n",
    "- https://github.com/marketplace/actions/ensure-clean-jupyter-notebooks"
   ]
  }
 ],
 "metadata": {
  "kernelspec": {
   "display_name": "Python 3",
   "language": "python",
   "name": "python3"
  },
  "language_info": {
   "codemirror_mode": {
    "name": "ipython",
    "version": 3
   },
   "file_extension": ".py",
   "mimetype": "text/x-python",
   "name": "python",
   "nbconvert_exporter": "python",
   "pygments_lexer": "ipython3",
   "version": "3.7.4-final"
  }
 },
 "nbformat": 4,
 "nbformat_minor": 4
}