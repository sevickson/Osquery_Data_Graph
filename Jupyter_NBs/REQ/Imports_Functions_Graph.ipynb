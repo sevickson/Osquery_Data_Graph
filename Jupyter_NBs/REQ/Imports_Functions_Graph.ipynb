{
 "cells": [
  {
   "cell_type": "markdown",
   "metadata": {},
   "source": [
    "## Import needed modules"
   ]
  },
  {
   "cell_type": "code",
   "execution_count": null,
   "metadata": {},
   "outputs": [],
   "source": [
    "# Standard modules to use and manipulate dataframes\n",
    "import numpy as np\n",
    "import pandas as pd\n",
    "# Graphistry API import \n",
    "import graphistry, pathlib, os, nest_asyncio\n",
    "from datetime import datetime"
   ]
  },
  {
   "cell_type": "code",
   "execution_count": null,
   "metadata": {},
   "outputs": [],
   "source": [
    "#General\n",
    "nest_asyncio.apply()\n",
    "location = %pwd\n",
    "#file location\n",
    "csvlocation = location + \"../Data/\"\n"
   ]
  },
  {
   "cell_type": "markdown",
   "metadata": {},
   "source": [
    "### Graphistry credentials"
   ]
  },
  {
   "cell_type": "code",
   "execution_count": null,
   "metadata": {},
   "outputs": [],
   "source": [
    "%reload_ext dotenv\n",
    "# Use find_dotenv to locate the file\n",
    "%dotenv"
   ]
  },
  {
   "cell_type": "code",
   "execution_count": null,
   "metadata": {},
   "outputs": [],
   "source": [
    "#For graphistry\n",
    "if os.getenv('API1_KEY'):\n",
    "    #used locally\n",
    "    api_username = os.getenv('API3_USERNAME')\n",
    "    api_pwd = os.getenv('API3_PWD') \n",
    "    api1_key = os.getenv('API1_KEY')\n",
    "else:\n",
    "    #used for TreeBeard GitHub Action\n",
    "    api_username = os.getenv('TB_API3_USERNAME')\n",
    "    api_pwd = os.getenv('TB_API3_PWD') \n",
    "    api1_key = os.getenv('TB_API1_KEY')"
   ]
  },
  {
   "cell_type": "code",
   "execution_count": null,
   "metadata": {},
   "outputs": [],
   "source": [
    "def write_csv_data(df_w, filename):\n",
    "    df_w.to_csv(csvlocation + filename)\n",
    "    print(filename,\" saved!\")\n",
    "    return"
   ]
  },
  {
   "cell_type": "code",
   "execution_count": null,
   "metadata": {},
   "outputs": [],
   "source": [
    "def read_csv_data(filename):\n",
    "    df_r = pd.read_csv(csvlocation + filename)\n",
    "    return(df_r)"
   ]
  },
  {
   "cell_type": "markdown",
   "metadata": {},
   "source": [
    "Groupnby anon NOT good!\n",
    "After merging different dfs anon can be the same but not same data, need to use the hash created in '2_Merge_Osquery_Data'"
   ]
  },
  {
   "cell_type": "code",
   "execution_count": null,
   "metadata": {},
   "outputs": [],
   "source": [
    "#group by hash as anon was not unique after merging sources\n",
    "def intersect(df):\n",
    "    #group by hash and if there is only 1 unique table name in the grouping drop it, this would mean the data is only available in that table\n",
    "    extract_df_clean_filter_dup = df.groupby(by='hash')\n",
    "    extract_df_clean_filter_dup = extract_df_clean_filter_dup.filter(lambda x: x['Table'].nunique() > 1).reset_index(drop=True)\n",
    "    # create groups of unique combinations of 'Table.Column' based on same hash\n",
    "    groups_hash = extract_df_clean_filter_dup.groupby('hash')['Table.Column'].unique().apply(', '.join).to_dict()\n",
    "    extract_df_clean_filter_dup['intersect'] = extract_df_clean_filter_dup['hash'].map(groups_hash)\n",
    "    return(extract_df_clean_filter_dup)"
   ]
  },
  {
   "cell_type": "markdown",
   "metadata": {},
   "source": [
    "## GRAPH Functions\n",
    "Colors Osquery to use in graph\n",
    "- rgb(165, 150, 255); #A596FF\n",
    "- rgb(0, 18, 95); #00125F maybe a ring omheen?\n",
    "- #00094c; miss te zwart\n",
    "- #4a9dff; licht blauw"
   ]
  },
  {
   "cell_type": "code",
   "execution_count": null,
   "metadata": {},
   "outputs": [],
   "source": [
    "def node_decorator(version,nodes):\n",
    "    #subsitute nodeTitle from Table.Column to Column\n",
    "    nodes['node_title'] = [n_title.split(\".\")[1] if n_type == 'Table.Column' else n_title for (n_type,n_title) in zip(nodes['type'],nodes['nodeTitle'])]\n",
    "    #add fontawesome\n",
    "    #nodes['node_icon'] = [\"table\" if node_type == 'Table' else \"columns\" if node_type == 'Table.Column' else \"asterisk\" for node_type in nodes['type']]\n",
    "    #setting radius to create circle like features\n",
    "    nodes['radius'] = [250 if node_type == 'Table' else 600 if node_type == 'Table.Column' else 1000 for node_type in nodes['type']]\n",
    "\n",
    "    if version is 1:\n",
    "        #add color\n",
    "        nodes['node_color'] = [0 if node_type == 'Table' else 4 if node_type == 'Table.Column' else 5 for node_type in nodes['type']]\n",
    "    elif version is 3:\n",
    "        #add color\n",
    "        nodes['node_color'] = [0xA596FF00 if node_type == 'Table' else 0x00125F00 if node_type == 'Table.Column' else 0x4a9dff00 for node_type in nodes['type']]\n",
    "        #change these columns to str otherwise error with api3\n",
    "        nodes['node_color'] = nodes['node_color'].astype(np.int64)\n",
    "        #nodes['nodeTitle'] = nodes['nodeTitle'].astype(str)\n",
    "        #nodes['node_title'] = nodes['node_title'].astype(str)\n",
    "    return(nodes)\n",
    "\n",
    "def edge_decorator(version,edges):\n",
    "    #edges = edges.sort_values(by=['src', 'dst'])\n",
    "    #edges['hash'] = edges['hash'].astype('str')\n",
    "    return(edges)"
   ]
  },
  {
   "cell_type": "code",
   "execution_count": null,
   "metadata": {},
   "outputs": [],
   "source": [
    "def node_decorator_Y(version,nodes):\n",
    "    #subsitute nodeTitle from Table.Column to Column\n",
    "    nodes['node_title'] = [n_title.split(\".\")[1] if n_type == 'Table.Column' else n_title for (n_type,n_title) in zip(nodes['type'],nodes['nodeTitle'])]\n",
    "    #add fontawesome\n",
    "    #nodes['node_icon'] = [\"table\" if node_type == 'Table' else \"columns\" if node_type == 'Table.Column' else \"asterisk\" for node_type in nodes['type']]\n",
    "    #setting radius to create circle like features\n",
    "    nodes['radius'] = [250 if node_type == 'Table' else 600 if node_type == 'Table.Column' else 1000 for node_type in nodes['type']]\n",
    "\n",
    "    if version is 1:\n",
    "        #add color\n",
    "        nodes['node_color'] = [0 if node_type == 'Table' else 4 if node_type == 'Table.Column' else 5 for node_type in nodes['type']]\n",
    "    elif version is 3:\n",
    "        #add color\n",
    "        nodes['node_color'] = [0xA596FF00 if node_type == 'Table' else 0x00125F00 if node_type == 'Table.Column' else 0x4a9dff00 for node_type in nodes['type']]\n",
    "        #change these columns to str otherwise error with api3\n",
    "        nodes['node_color'] = nodes['node_color'].astype(np.int64)\n",
    "        #nodes['nodeTitle'] = nodes['nodeTitle'].astype(str)\n",
    "        #nodes['node_title'] = nodes['node_title'].astype(str)\n",
    "    return(nodes)\n",
    "\n",
    "def edge_decorator_Y(version,edges):\n",
    "    #edges = edges.sort_values(by=['src', 'dst'])\n",
    "    #edges['hash'] = edges['hash'].astype('str')\n",
    "    return(edges)"
   ]
  },
  {
   "cell_type": "markdown",
   "metadata": {},
   "source": [
    "### Get JWT Graphistry Token"
   ]
  },
  {
   "cell_type": "code",
   "execution_count": null,
   "metadata": {},
   "outputs": [],
   "source": [
    "def generate_graphistry_token(api_username,api_pwd): \n",
    "    global jwt_token_time\n",
    "    global jwt_token\n",
    "    if 'jwt_token_time' in globals(): \n",
    "        now_time = datetime.now() \n",
    "        diff_time = now_time - jwt_token_time\n",
    "        if diff_time.seconds >= 3600:\n",
    "            jwt_token_time = datetime.now() \n",
    "            jwt_token = graphistry.ArrowUploader(server_base_path='https://hub.graphistry.com').login(username=api_username, password=api_pwd).token\n",
    "        else:\n",
    "            pass\n",
    "    else:\n",
    "        jwt_token_time = datetime.now()\n",
    "        jwt_token = graphistry.ArrowUploader(server_base_path='https://hub.graphistry.com').login(username=api_username, password=api_pwd).token\n",
    "    return(jwt_token)"
   ]
  },
  {
   "cell_type": "code",
   "execution_count": null,
   "metadata": {},
   "outputs": [],
   "source": [
    "def graphistry_graph(version,df): \n",
    "    if version is 1:\n",
    "        graphistry.register(api=version, key='test') \n",
    "    elif version is 3:\n",
    "        api_token = generate_graphistry_token(api_username,api_pwd)\n",
    "        graphistry.register(api=version, protocol=\"https\", server='hub.graphistry.com', token=api_token)\n",
    "\n",
    "    g = graphistry.hypergraph(df, ['Table', 'Table.Column', 'intersect'], direct=True, drop_edge_attrs=True,\n",
    "        opts={\n",
    "            \"EDGES\": {\n",
    "                \"Table\": [ \"Table.Column\" ],\n",
    "                \"Table.Column\": [ \"intersect\" ]\n",
    "            }\n",
    "        })['graph']\n",
    "\n",
    "    #add color and other stuff\n",
    "    g = g.nodes(node_decorator(version,g._nodes)).edges(edge_decorator(version,g._edges))\n",
    "    #add url params settings\n",
    "    g = g.settings(url_params={'play':'10000','showArrows':'false','lockedR':'true','bg':'%23FFFFFF','linLog':'true','edgeCurvature':0.05,'edgeOpacity':0.2})\n",
    "    #bind options\n",
    "    g = g.bind(point_title ='node_title', point_color='node_color', point_label='intersect', point_x='radius',point_y=0)\n",
    "    \n",
    "    #without render\n",
    "    return(g.plot(render=False))"
   ]
  },
  {
   "cell_type": "code",
   "execution_count": null,
   "metadata": {},
   "outputs": [],
   "source": [
    "def graphistry_graph_Y(version,df): \n",
    "    if version is 1:\n",
    "        graphistry.register(api=version, key='test') \n",
    "    elif version is 3:\n",
    "        api_token = generate_graphistry_token(api_username,api_pwd)\n",
    "        graphistry.register(api=version, protocol=\"https\", server='hub.graphistry.com', token=api_token)\n",
    "\n",
    "    g = graphistry.hypergraph(df, ['Table', 'Table.Column', 'intersect'], direct=True, drop_edge_attrs=True,\n",
    "        opts={\n",
    "            \"EDGES\": {\n",
    "                \"Table\": [ \"Table.Column\" ],\n",
    "                \"Table.Column\": [ \"intersect\" ]\n",
    "            }\n",
    "        })['graph']\n",
    "\n",
    "    #add color and other stuff\n",
    "    g = g.nodes(node_decorator(version,g._nodes)).edges(edge_decorator(version,g._edges))\n",
    "    #add url params settings\n",
    "    g = g.settings(url_params={'play':'10000','showArrows':'false','lockedY':'true','bg':'%23FFFFFF','edgeCurvature':0,'edgeOpacity':0.2})#,'linLog':'true','edgeCurvature':0.05,'edgeOpacity':0.2})\n",
    "    #bind options\n",
    "    g = g.bind(point_title ='node_title', point_color='node_color', point_label='intersect', point_y='radius')#,point_y='radius')\n",
    "    \n",
    "    #without render\n",
    "    return(g.plot(render=False))"
   ]
  },
  {
   "cell_type": "markdown",
   "metadata": {},
   "source": [
    "#### Name of layout options to use in url_params  \n",
    "gravity: 0.10471285480508996  \n",
    "linLog: false  \n",
    "lockedX: false  \n",
    "lockedY: false  \n",
    "lockedR: true  \n",
    "scalingRatio: 0.10471285480508996  \n",
    "edgeInfluence: 0  \n",
    "dissuadeHubs: true  \n",
    "strongGravity: false  \n",
    "precisionVsSpeed: -0.1  "
   ]
  },
  {
   "cell_type": "markdown",
   "metadata": {},
   "source": [
    "References:\n",
    "- https://stackoverflow.com/questions/843277/how-do-i-check-if-a-variable-exists\n",
    "- https://blog.softhints.com/python-3-subtrack-time/\n",
    "- https://markhneedham.com/blog/2019/05/10/jupyter-runtimeerror-this-event-loop-is-already-running/"
   ]
  }
 ],
 "metadata": {
  "language_info": {
   "codemirror_mode": {
    "name": "ipython",
    "version": 3
   },
   "file_extension": ".py",
   "mimetype": "text/x-python",
   "name": "python",
   "nbconvert_exporter": "python",
   "pygments_lexer": "ipython3",
   "version": "3.7.4-final"
  },
  "orig_nbformat": 2,
  "kernelspec": {
   "name": "python3",
   "display_name": "Python 3"
  }
 },
 "nbformat": 4,
 "nbformat_minor": 2
}