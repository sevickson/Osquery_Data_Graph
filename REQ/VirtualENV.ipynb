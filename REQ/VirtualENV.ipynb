{
 "cells": [
  {
   "cell_type": "markdown",
   "metadata": {},
   "source": [
    "# Activate `venv`\n",
    "Create virtual `venv` environment for this project. "
   ]
  },
  {
   "cell_type": "code",
   "execution_count": 10,
   "metadata": {},
   "outputs": [],
   "source": [
    "venv_name = '.myvenv'"
   ]
  },
  {
   "cell_type": "code",
   "execution_count": 11,
   "metadata": {},
   "outputs": [],
   "source": [
    "!python -m venv ../{venv_name}\n",
    "#osquery_graph_venv"
   ]
  },
  {
   "cell_type": "code",
   "execution_count": null,
   "metadata": {
    "tags": []
   },
   "outputs": [],
   "source": [
    "#Not needed with VS Code, VS Code detects the new environment automatically.\n",
    "#Ctrl+Shift+P and select the new Python Interpreter\n",
    "#!source ../osquery_graph_venv/bin/activate\n",
    "\n",
    "#!c:/Users/kwidamas/Desktop/Notebooks/OSQUERY/Osquery_Data_Graph/{venv_name}/Scripts/activate.bat"
   ]
  },
  {
   "cell_type": "code",
   "execution_count": null,
   "metadata": {
    "tags": []
   },
   "outputs": [],
   "source": [
    "#Needed?\n",
    "!pip install --user ipykernel"
   ]
  },
  {
   "cell_type": "code",
   "execution_count": null,
   "metadata": {
    "tags": []
   },
   "outputs": [],
   "source": [
    "#Needed?\n",
    "!python -m ipykernel install --user --name={venv_name}"
   ]
  },
  {
   "cell_type": "code",
   "execution_count": 1,
   "metadata": {
    "tags": []
   },
   "outputs": [
    {
     "output_type": "stream",
     "name": "stdout",
     "text": "\n(base) c:\\Users\\kwidamas\\Desktop\\Notebooks\\OSQUERY\\Osquery_Data_Graph\\REQ>conda.bat deactivate  \nDeprecationWarning: 'deactivate' is deprecated. Use 'conda deactivate'. \n"
    }
   ],
   "source": [
    "#Needed?\n",
    "#To deactivate the virtual environment\n",
    "!deactivate"
   ]
  },
  {
   "cell_type": "code",
   "execution_count": 9,
   "metadata": {
    "tags": []
   },
   "outputs": [
    {
     "output_type": "stream",
     "name": "stderr",
     "text": "Invalid switch - \"osquery_graph_venv\".\n"
    }
   ],
   "source": [
    "#Remove the virtual environment to clean-up\n",
    "#!rmdir /S ../{venv_name}\n",
    "TODO: change to be able to delete folder"
   ]
  },
  {
   "cell_type": "markdown",
   "metadata": {},
   "source": [
    "- https://janakiev.com/blog/jupyter-virtual-envs/\n",
    "- https://code.visualstudio.com/docs/python/environments#_global-virtual-and-conda-environments"
   ]
  }
 ],
 "metadata": {
  "language_info": {
   "codemirror_mode": {
    "name": "ipython",
    "version": 3
   },
   "file_extension": ".py",
   "mimetype": "text/x-python",
   "name": "python",
   "nbconvert_exporter": "python",
   "pygments_lexer": "ipython3",
   "version": 3
  },
  "orig_nbformat": 2,
  "kernelspec": {
   "name": "python_defaultSpec_1594021362577",
   "display_name": "Python 3.7.4 64-bit ('base': conda)"
  }
 },
 "nbformat": 4,
 "nbformat_minor": 2
}