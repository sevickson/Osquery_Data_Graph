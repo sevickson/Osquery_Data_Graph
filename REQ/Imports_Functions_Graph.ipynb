{
 "cells": [
  {
   "cell_type": "markdown",
   "metadata": {},
   "source": [
    "## Import needed modules"
   ]
  },
  {
   "cell_type": "code",
   "execution_count": null,
   "metadata": {},
   "outputs": [],
   "source": [
    "# Standard modules to use and manipulate dataframes\n",
    "import numpy as np\n",
    "import pandas as pd\n",
    "# Graphistry API import # Used to be able to access locations on disk\n",
    "import graphistry, pathlib\n",
    "from datetime import datetime\n",
    "import nest_asyncio"
   ]
  },
  {
   "cell_type": "code",
   "execution_count": null,
   "metadata": {},
   "outputs": [],
   "source": [
    "#General\n",
    "nest_asyncio.apply()\n",
    "location = %pwd\n",
    "csvlocation = location + \"\\\\CSV\\\\\"\n",
    "#lnx_csv = \n",
    "#win_csv = "
   ]
  },
  {
   "cell_type": "code",
   "execution_count": null,
   "metadata": {},
   "outputs": [],
   "source": [
    "def write_csv_data(df_w, filename):\n",
    "    df_w.to_csv(csvlocation + filename)\n",
    "    print(filename,\" saved!\")\n",
    "    return"
   ]
  },
  {
   "cell_type": "code",
   "execution_count": null,
   "metadata": {},
   "outputs": [],
   "source": [
    "def read_csv_data(filename):\n",
    "    df_r = pd.read_csv(csvlocation + filename)\n",
    "    return(df_r)"
   ]
  },
  {
   "cell_type": "code",
   "execution_count": null,
   "metadata": {},
   "outputs": [],
   "source": [
    "def intersect(df):\n",
    "    #group by anon and if there is only 1 unique table name in the grouping drop it, this would mean the data is only available in that table\n",
    "    extract_df_clean_filter_dup = df.groupby(by='anon')\n",
    "    extract_df_clean_filter_dup = extract_df_clean_filter_dup.filter(lambda x: x['Table'].nunique() > 1).reset_index(drop=True)\n",
    "    groups_anon = extract_df_clean_filter_dup.groupby('anon')['Table.Column'].apply(', '.join).to_dict()\n",
    "    extract_df_clean_filter_dup['intersect'] = extract_df_clean_filter_dup['anon'].map(groups_anon)\n",
    "    return(extract_df_clean_filter_dup)"
   ]
  },
  {
   "cell_type": "markdown",
   "metadata": {},
   "source": [
    "## GRAPH Functions\n",
    "Colors Osquery to use in graph\n",
    "- rgb(165, 150, 255); #A596FF\n",
    "- rgb(0, 18, 95); #00125F maybe a ring omheen?\n",
    "- #00094c; miss te zwart\n",
    "- #4a9dff; licht blauw"
   ]
  },
  {
   "cell_type": "code",
   "execution_count": null,
   "metadata": {},
   "outputs": [],
   "source": [
    "def node_decorator(nodes):\n",
    "    #add color\n",
    "    #0xFF000000, 0x00FF0000, 0x0000FF00\n",
    "    nodes['node_color'] = [0xA596FF00 if node_type == 'Table' else 0x00125F00 if node_type == 'Table.Column' else 0x4a9dff00 for node_type in nodes['type']] #0, 4, 5\n",
    "    #subsitute nodeTitle from Table.Column to Column\n",
    "    nodes['node_title'] = [n_title.split(\".\")[1] if n_type == 'Table.Column' else n_title for (n_type,n_title) in zip(nodes['type'],nodes['nodeTitle'])]\n",
    "    #add fontawesome\n",
    "    nodes['node_icon'] = [\"table\" if node_type == 'Table' else \"columns\" if node_type == 'Table.Column' else \"asterisk\" for node_type in nodes['type']]\n",
    "\n",
    "    #change these columns to str otherwise error with api3\n",
    "    #nodes['nodeTitle'] = nodes['nodeTitle'].astype(str)\n",
    "    #nodes['node_title'] = nodes['node_title'].astype(str)\n",
    "    nodes['node_color'] = nodes['node_color'].astype(np.int64) #int)\n",
    "    return(nodes)\n",
    "\n",
    "def edge_decorator(edges):\n",
    "    #print(edges.columns)\n",
    "    #edges = edges.sort_values(by=['src', 'dst'])\n",
    "    #edges['hash'] = edges['hash'].astype('str')\n",
    "    return(edges)"
   ]
  },
  {
   "cell_type": "markdown",
   "metadata": {},
   "source": [
    "### Get JWT Graphistry Token"
   ]
  },
  {
   "cell_type": "code",
   "execution_count": null,
   "metadata": {},
   "outputs": [],
   "source": [
    "def generate_graphistry_token(api_username,api_pwd): \n",
    "    global jwt_token_time\n",
    "    global jwt_token\n",
    "    if 'jwt_token_time' in globals(): \n",
    "        now_time = datetime.now() \n",
    "        diff_time = now_time - jwt_token_time\n",
    "        if diff_time.seconds >= 3600:\n",
    "            jwt_token_time = datetime.now() \n",
    "            jwt_token = graphistry.ArrowUploader(server_base_path='https://hub.graphistry.com').login(username=api_username, password=api_pwd).token\n",
    "            #print('New token generated!')\n",
    "        else:\n",
    "            pass\n",
    "            #print('Token still current!')\n",
    "    else:\n",
    "        jwt_token_time = datetime.now()\n",
    "        jwt_token = graphistry.ArrowUploader(server_base_path='https://hub.graphistry.com').login(username=api_username, password=api_pwd).token\n",
    "        #print('New token generated!')\n",
    "    return(jwt_token)"
   ]
  },
  {
   "cell_type": "code",
   "execution_count": null,
   "metadata": {},
   "outputs": [],
   "source": [
    "def graphistry_graph(df): \n",
    "    api_token = generate_graphistry_token(api_username,api_pwd)\n",
    "    graphistry.register(api=3, protocol=\"https\", server='hub.graphistry.com', token=api_token, key='')\n",
    "    g3 = graphistry.hypergraph(df, ['Table', 'Table.Column', 'intersect'], direct=True, drop_edge_attrs=True,\n",
    "        opts={\n",
    "            \"EDGES\": {\n",
    "                \"Table\": [ \"Table.Column\" ],\n",
    "                \"Table.Column\": [ \"intersect\" ]\n",
    "            }\n",
    "        })['graph']\n",
    "    g3 = g3.settings(url_params={'strongGravity': 'true'})\n",
    "\n",
    "    #add color and other stuff\n",
    "    g3_1 = g3.nodes(node_decorator(g3._nodes)).edges(edge_decorator(g3._edges))\n",
    "    #without render\n",
    "    #workaround to fix 60% error when rendering\n",
    "    return(g3_1.bind(point_title ='node_title', point_color='node_color', point_label='intersect', source='src2', destination='dst2').edges(g3_1._edges.assign(src2=g3_1._edges['src'], dst2=g3_1._edges['dst'])).plot(render=False))"
   ]
  },
  {
   "cell_type": "markdown",
   "metadata": {},
   "source": [
    "References:\n",
    "- https://stackoverflow.com/questions/843277/how-do-i-check-if-a-variable-exists\n",
    "- https://blog.softhints.com/python-3-subtrack-time/\n",
    "- https://markhneedham.com/blog/2019/05/10/jupyter-runtimeerror-this-event-loop-is-already-running/"
   ]
  }
 ],
 "metadata": {
  "language_info": {
   "codemirror_mode": {
    "name": "ipython",
    "version": 3
   },
   "file_extension": ".py",
   "mimetype": "text/x-python",
   "name": "python",
   "nbconvert_exporter": "python",
   "pygments_lexer": "ipython3",
   "version": "3.7.4-final"
  },
  "orig_nbformat": 2,
  "kernelspec": {
   "name": "python3",
   "display_name": "Python 3"
  }
 },
 "nbformat": 4,
 "nbformat_minor": 2
}