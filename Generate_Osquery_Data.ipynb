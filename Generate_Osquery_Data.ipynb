{
 "cells": [
  {
   "cell_type": "markdown",
   "metadata": {},
   "source": [
    "## Imports and Functions"
   ]
  },
  {
   "cell_type": "code",
   "execution_count": 2,
   "metadata": {
    "tags": []
   },
   "outputs": [
    {
     "output_type": "stream",
     "name": "stdout",
     "text": "Requirement already up-to-date: pip in c:\\users\\kwidamas\\anaconda3\\lib\\site-packages (20.1.1)\nRequirement already up-to-date: requests in c:\\users\\kwidamas\\appdata\\roaming\\python\\python37\\site-packages (from -r REQ\\\\Requirements.txt (line 1)) (2.24.0)\nRequirement already up-to-date: ipywidgets in c:\\users\\kwidamas\\anaconda3\\lib\\site-packages (from -r REQ\\\\Requirements.txt (line 2)) (7.5.1)\nRequirement already up-to-date: ipykernel in c:\\users\\kwidamas\\appdata\\roaming\\python\\python37\\site-packages (from -r REQ\\\\Requirements.txt (line 3)) (5.3.1)\nRequirement already up-to-date: ipython in c:\\users\\kwidamas\\appdata\\roaming\\python\\python37\\site-packages (from -r REQ\\\\Requirements.txt (line 4)) (7.16.1)\nRequirement already up-to-date: pandas in c:\\users\\kwidamas\\appdata\\roaming\\python\\python37\\site-packages (from -r REQ\\\\Requirements.txt (line 5)) (1.0.5)\nRequirement already up-to-date: numpy in c:\\users\\kwidamas\\appdata\\roaming\\python\\python37\\site-packages (from -r REQ\\\\Requirements.txt (line 6)) (1.19.0)\nRequirement already up-to-date: graphistry in c:\\users\\kwidamas\\appdata\\roaming\\python\\python37\\site-packages (from -r REQ\\\\Requirements.txt (line 7)) (0.11.6)\nRequirement already up-to-date: nest_asyncio in c:\\users\\kwidamas\\appdata\\roaming\\python\\python37\\site-packages (from -r REQ\\\\Requirements.txt (line 8)) (1.3.3)\nRequirement already satisfied, skipping upgrade: urllib3!=1.25.0,!=1.25.1,<1.26,>=1.21.1 in c:\\users\\kwidamas\\anaconda3\\lib\\site-packages (from requests->-r REQ\\\\Requirements.txt (line 1)) (1.25.2)\nRequirement already satisfied, skipping upgrade: chardet<4,>=3.0.2 in c:\\users\\kwidamas\\anaconda3\\lib\\site-packages (from requests->-r REQ\\\\Requirements.txt (line 1)) (3.0.4)\nRequirement already satisfied, skipping upgrade: idna<3,>=2.5 in c:\\users\\kwidamas\\anaconda3\\lib\\site-packages (from requests->-r REQ\\\\Requirements.txt (line 1)) (2.8)\nRequirement already satisfied, skipping upgrade: certifi>=2017.4.17 in c:\\users\\kwidamas\\anaconda3\\lib\\site-packages (from requests->-r REQ\\\\Requirements.txt (line 1)) (2019.6.16)\nRequirement already satisfied, skipping upgrade: widgetsnbextension~=3.5.0 in c:\\users\\kwidamas\\anaconda3\\lib\\site-packages (from ipywidgets->-r REQ\\\\Requirements.txt (line 2)) (3.5.1)\nRequirement already satisfied, skipping upgrade: nbformat>=4.2.0 in c:\\users\\kwidamas\\anaconda3\\lib\\site-packages (from ipywidgets->-r REQ\\\\Requirements.txt (line 2)) (4.4.0)\nRequirement already satisfied, skipping upgrade: traitlets>=4.3.1 in c:\\users\\kwidamas\\appdata\\roaming\\python\\python37\\site-packages (from ipywidgets->-r REQ\\\\Requirements.txt (line 2)) (4.3.3)\nRequirement already satisfied, skipping upgrade: tornado>=4.2 in c:\\users\\kwidamas\\appdata\\roaming\\python\\python37\\site-packages (from ipykernel->-r REQ\\\\Requirements.txt (line 3)) (6.0.4)\nRequirement already satisfied, skipping upgrade: jupyter-client in c:\\users\\kwidamas\\appdata\\roaming\\python\\python37\\site-packages (from ipykernel->-r REQ\\\\Requirements.txt (line 3)) (6.1.5)\nRequirement already satisfied, skipping upgrade: decorator in c:\\users\\kwidamas\\appdata\\roaming\\python\\python37\\site-packages (from ipython->-r REQ\\\\Requirements.txt (line 4)) (4.4.2)\nRequirement already satisfied, skipping upgrade: jedi>=0.10 in c:\\users\\kwidamas\\appdata\\roaming\\python\\python37\\site-packages (from ipython->-r REQ\\\\Requirements.txt (line 4)) (0.17.1)\nRequirement already satisfied, skipping upgrade: setuptools>=18.5 in c:\\users\\kwidamas\\appdata\\roaming\\python\\python37\\site-packages (from ipython->-r REQ\\\\Requirements.txt (line 4)) (47.3.0)\nRequirement already satisfied, skipping upgrade: colorama; sys_platform == \"win32\" in c:\\users\\kwidamas\\appdata\\roaming\\python\\python37\\site-packages (from ipython->-r REQ\\\\Requirements.txt (line 4)) (0.4.3)\nRequirement already satisfied, skipping upgrade: pickleshare in c:\\users\\kwidamas\\appdata\\roaming\\python\\python37\\site-packages (from ipython->-r REQ\\\\Requirements.txt (line 4)) (0.7.5)\nRequirement already satisfied, skipping upgrade: backcall in c:\\users\\kwidamas\\appdata\\roaming\\python\\python37\\site-packages (from ipython->-r REQ\\\\Requirements.txt (line 4)) (0.2.0)\nRequirement already satisfied, skipping upgrade: prompt-toolkit!=3.0.0,!=3.0.1,<3.1.0,>=2.0.0 in c:\\users\\kwidamas\\appdata\\roaming\\python\\python37\\site-packages (from ipython->-r REQ\\\\Requirements.txt (line 4)) (3.0.5)\nRequirement already satisfied, skipping upgrade: pygments in c:\\users\\kwidamas\\appdata\\roaming\\python\\python37\\site-packages (from ipython->-r REQ\\\\Requirements.txt (line 4)) (2.6.1)\nRequirement already satisfied, skipping upgrade: python-dateutil>=2.6.1 in c:\\users\\kwidamas\\appdata\\roaming\\python\\python37\\site-packages (from pandas->-r REQ\\\\Requirements.txt (line 5)) (2.8.1)\nRequirement already satisfied, skipping upgrade: pytz>=2017.2 in c:\\users\\kwidamas\\anaconda3\\lib\\site-packages (from pandas->-r REQ\\\\Requirements.txt (line 5)) (2019.3)\nRequirement already satisfied, skipping upgrade: protobuf>=2.6.0 in c:\\users\\kwidamas\\anaconda3\\lib\\site-packages (from graphistry->-r REQ\\\\Requirements.txt (line 7)) (3.11.2)\nRequirement already satisfied, skipping upgrade: future>=0.15.0 in c:\\users\\kwidamas\\anaconda3\\lib\\site-packages (from graphistry->-r REQ\\\\Requirements.txt (line 7)) (0.17.1)\nRequirement already satisfied, skipping upgrade: pyarrow>=0.15.0 in c:\\users\\kwidamas\\appdata\\roaming\\python\\python37\\site-packages (from graphistry->-r REQ\\\\Requirements.txt (line 7)) (0.17.1)\nRequirement already satisfied, skipping upgrade: notebook>=4.4.1 in c:\\users\\kwidamas\\anaconda3\\lib\\site-packages (from widgetsnbextension~=3.5.0->ipywidgets->-r REQ\\\\Requirements.txt (line 2)) (6.0.1)\nRequirement already satisfied, skipping upgrade: jupyter-core in c:\\users\\kwidamas\\appdata\\roaming\\python\\python37\\site-packages (from nbformat>=4.2.0->ipywidgets->-r REQ\\\\Requirements.txt (line 2)) (4.6.3)\nRequirement already satisfied, skipping upgrade: jsonschema!=2.5.0,>=2.4 in c:\\users\\kwidamas\\anaconda3\\lib\\site-packages (from nbformat>=4.2.0->ipywidgets->-r REQ\\\\Requirements.txt (line 2)) (3.0.2)\nRequirement already satisfied, skipping upgrade: ipython-genutils in c:\\users\\kwidamas\\appdata\\roaming\\python\\python37\\site-packages (from nbformat>=4.2.0->ipywidgets->-r REQ\\\\Requirements.txt (line 2)) (0.2.0)\nRequirement already satisfied, skipping upgrade: six in c:\\users\\kwidamas\\appdata\\roaming\\python\\python37\\site-packages (from traitlets>=4.3.1->ipywidgets->-r REQ\\\\Requirements.txt (line 2)) (1.15.0)\nRequirement already satisfied, skipping upgrade: pyzmq>=13 in c:\\users\\kwidamas\\appdata\\roaming\\python\\python37\\site-packages (from jupyter-client->ipykernel->-r REQ\\\\Requirements.txt (line 3)) (19.0.1)\nRequirement already satisfied, skipping upgrade: parso<0.8.0,>=0.7.0 in c:\\users\\kwidamas\\appdata\\roaming\\python\\python37\\site-packages (from jedi>=0.10->ipython->-r REQ\\\\Requirements.txt (line 4)) (0.7.0)\nRequirement already satisfied, skipping upgrade: wcwidth in c:\\users\\kwidamas\\appdata\\roaming\\python\\python37\\site-packages (from prompt-toolkit!=3.0.0,!=3.0.1,<3.1.0,>=2.0.0->ipython->-r REQ\\\\Requirements.txt (line 4)) (0.2.5)\nRequirement already satisfied, skipping upgrade: prometheus-client in c:\\users\\kwidamas\\anaconda3\\lib\\site-packages (from notebook>=4.4.1->widgetsnbextension~=3.5.0->ipywidgets->-r REQ\\\\Requirements.txt (line 2)) (0.7.1)\nRequirement already satisfied, skipping upgrade: jinja2 in c:\\users\\kwidamas\\anaconda3\\lib\\site-packages (from notebook>=4.4.1->widgetsnbextension~=3.5.0->ipywidgets->-r REQ\\\\Requirements.txt (line 2)) (2.10.3)\nRequirement already satisfied, skipping upgrade: nbconvert in c:\\users\\kwidamas\\anaconda3\\lib\\site-packages (from notebook>=4.4.1->widgetsnbextension~=3.5.0->ipywidgets->-r REQ\\\\Requirements.txt (line 2)) (5.6.0)\nRequirement already satisfied, skipping upgrade: terminado>=0.8.1 in c:\\users\\kwidamas\\anaconda3\\lib\\site-packages (from notebook>=4.4.1->widgetsnbextension~=3.5.0->ipywidgets->-r REQ\\\\Requirements.txt (line 2)) (0.8.2)\nRequirement already satisfied, skipping upgrade: Send2Trash in c:\\users\\kwidamas\\anaconda3\\lib\\site-packages (from notebook>=4.4.1->widgetsnbextension~=3.5.0->ipywidgets->-r REQ\\\\Requirements.txt (line 2)) (1.5.0)\nRequirement already satisfied, skipping upgrade: pywin32>=1.0; sys_platform == \"win32\" in c:\\users\\kwidamas\\appdata\\roaming\\python\\python37\\site-packages (from jupyter-core->nbformat>=4.2.0->ipywidgets->-r REQ\\\\Requirements.txt (line 2)) (228)\nRequirement already satisfied, skipping upgrade: attrs>=17.4.0 in c:\\users\\kwidamas\\anaconda3\\lib\\site-packages (from jsonschema!=2.5.0,>=2.4->nbformat>=4.2.0->ipywidgets->-r REQ\\\\Requirements.txt (line 2)) (19.2.0)\nRequirement already satisfied, skipping upgrade: pyrsistent>=0.14.0 in c:\\users\\kwidamas\\anaconda3\\lib\\site-packages (from jsonschema!=2.5.0,>=2.4->nbformat>=4.2.0->ipywidgets->-r REQ\\\\Requirements.txt (line 2)) (0.15.4)\nRequirement already satisfied, skipping upgrade: MarkupSafe>=0.23 in c:\\users\\kwidamas\\anaconda3\\lib\\site-packages (from jinja2->notebook>=4.4.1->widgetsnbextension~=3.5.0->ipywidgets->-r REQ\\\\Requirements.txt (line 2)) (1.1.1)\nRequirement already satisfied, skipping upgrade: testpath in c:\\users\\kwidamas\\anaconda3\\lib\\site-packages (from nbconvert->notebook>=4.4.1->widgetsnbextension~=3.5.0->ipywidgets->-r REQ\\\\Requirements.txt (line 2)) (0.4.2)\nRequirement already satisfied, skipping upgrade: bleach in c:\\users\\kwidamas\\anaconda3\\lib\\site-packages (from nbconvert->notebook>=4.4.1->widgetsnbextension~=3.5.0->ipywidgets->-r REQ\\\\Requirements.txt (line 2)) (3.1.0)\nRequirement already satisfied, skipping upgrade: defusedxml in c:\\users\\kwidamas\\anaconda3\\lib\\site-packages (from nbconvert->notebook>=4.4.1->widgetsnbextension~=3.5.0->ipywidgets->-r REQ\\\\Requirements.txt (line 2)) (0.6.0)\nRequirement already satisfied, skipping upgrade: mistune<2,>=0.8.1 in c:\\users\\kwidamas\\anaconda3\\lib\\site-packages (from nbconvert->notebook>=4.4.1->widgetsnbextension~=3.5.0->ipywidgets->-r REQ\\\\Requirements.txt (line 2)) (0.8.4)\nRequirement already satisfied, skipping upgrade: entrypoints>=0.2.2 in c:\\users\\kwidamas\\anaconda3\\lib\\site-packages (from nbconvert->notebook>=4.4.1->widgetsnbextension~=3.5.0->ipywidgets->-r REQ\\\\Requirements.txt (line 2)) (0.3)\nRequirement already satisfied, skipping upgrade: pandocfilters>=1.4.1 in c:\\users\\kwidamas\\anaconda3\\lib\\site-packages (from nbconvert->notebook>=4.4.1->widgetsnbextension~=3.5.0->ipywidgets->-r REQ\\\\Requirements.txt (line 2)) (1.4.2)\nRequirement already satisfied, skipping upgrade: webencodings in c:\\users\\kwidamas\\anaconda3\\lib\\site-packages (from bleach->nbconvert->notebook>=4.4.1->widgetsnbextension~=3.5.0->ipywidgets->-r REQ\\\\Requirements.txt (line 2)) (0.5.1)\n"
    }
   ],
   "source": [
    "import shutil\n",
    "if shutil.which(\"python3\") is None:\n",
    "    !python -m pip install --upgrade --user pip\n",
    "    !python -m pip install --upgrade --user -r REQ\\\\Requirements.txt \n",
    "else:\n",
    "    !python3 -m pip install --upgrade --user pip\n",
    "    !python3 -m pip install --upgrade --user -r REQ\\\\Requirements.txt "
   ]
  },
  {
   "cell_type": "code",
   "execution_count": null,
   "metadata": {
    "tags": []
   },
   "outputs": [],
   "source": [
    "%run \"./REQ/Imports_Functions.ipynb\""
   ]
  },
  {
   "cell_type": "markdown",
   "metadata": {},
   "source": [
    "## Choose Linux WSL Distribution"
   ]
  },
  {
   "cell_type": "code",
   "execution_count": null,
   "metadata": {},
   "outputs": [],
   "source": [
    "display(distro_dd)"
   ]
  },
  {
   "cell_type": "code",
   "execution_count": null,
   "metadata": {
    "tags": []
   },
   "outputs": [],
   "source": [
    "VM_Name = distro_dd.result\n",
    "print(\"Using:\",VM_Name, \"distribution\")"
   ]
  },
  {
   "cell_type": "code",
   "execution_count": null,
   "metadata": {},
   "outputs": [],
   "source": [
    "username = 'user_jupyter'\n",
    "password = getpass.getpass()"
   ]
  },
  {
   "cell_type": "code",
   "execution_count": null,
   "metadata": {},
   "outputs": [],
   "source": [
    "#If needed VS Code\n",
    "!wsl -d {VM_Name} code ."
   ]
  },
  {
   "cell_type": "markdown",
   "metadata": {},
   "source": [
    "## Install Osquery on WSL"
   ]
  },
  {
   "cell_type": "code",
   "execution_count": null,
   "metadata": {
    "tags": []
   },
   "outputs": [],
   "source": [
    "install_osquery_wsl_linux(wsl_osq)"
   ]
  },
  {
   "cell_type": "markdown",
   "metadata": {},
   "source": [
    "## Install Osquery on Linux"
   ]
  },
  {
   "cell_type": "code",
   "execution_count": null,
   "metadata": {
    "tags": []
   },
   "outputs": [],
   "source": [
    "install_osquery_wsl_linux(lnx_osq)"
   ]
  },
  {
   "cell_type": "markdown",
   "metadata": {},
   "source": [
    "## Install Osquery on Windows"
   ]
  },
  {
   "cell_type": "code",
   "execution_count": null,
   "metadata": {
    "tags": []
   },
   "outputs": [],
   "source": [
    "install_osquery_windows(win_osq)"
   ]
  },
  {
   "cell_type": "markdown",
   "metadata": {},
   "source": [
    "## Get Osquery data WSL - JSON output"
   ]
  },
  {
   "cell_type": "code",
   "execution_count": null,
   "metadata": {
    "tags": []
   },
   "outputs": [],
   "source": [
    "wsl_tables = osquery_tables_os(wsl_osq)\n",
    "run_osquery_wsl_linux(wsl_osq,pwsl,wsl_tables,twsllocation)"
   ]
  },
  {
   "cell_type": "markdown",
   "metadata": {},
   "source": [
    "## Get Osquery data Linux - JSON output\n",
    "This works directly on the Linux system."
   ]
  },
  {
   "cell_type": "code",
   "execution_count": null,
   "metadata": {
    "tags": []
   },
   "outputs": [],
   "source": [
    "lnx_tables = osquery_tables_os(lnx_osq)\n",
    "run_osquery_wsl_linux(lnx_osq,pl,lnx_tables,tllocation)"
   ]
  },
  {
   "cell_type": "markdown",
   "metadata": {},
   "source": [
    "## Get Osquery data Windows - JSON output\n",
    "**Consider running this part of the Jupyter Notebook once as Administrator to get data from all the tables, if not admin results from tables like `bitlocker_info` will be empty**"
   ]
  },
  {
   "cell_type": "code",
   "execution_count": null,
   "metadata": {
    "tags": []
   },
   "outputs": [],
   "source": [
    "windows_tables = osquery_tables_os(win_osq)\n",
    "run_osquery_windows(pw,windows_tables,twlocation)"
   ]
  },
  {
   "cell_type": "markdown",
   "metadata": {},
   "source": [
    "## Handling Osquery data\n",
    "### Windows\n",
    "Create a DataFrame from the data extracted from Osquery."
   ]
  },
  {
   "cell_type": "code",
   "execution_count": null,
   "metadata": {
    "tags": []
   },
   "outputs": [],
   "source": [
    "data_extract_win = osquery_data_extract(pw)\n",
    "extract_df_win = pd.DataFrame([t for lst in data_extract_win for t in lst], columns = ['Table.Column','Data'])\n",
    "print(extract_df_win.shape)"
   ]
  },
  {
   "cell_type": "markdown",
   "metadata": {},
   "source": [
    "Make Table and Column columns, remove empty or NULL entries.  \n",
    "Filter out all entries with 2 or less characters in the Data field, these entries are too generic to make good joins."
   ]
  },
  {
   "cell_type": "code",
   "execution_count": null,
   "metadata": {
    "tags": []
   },
   "outputs": [],
   "source": [
    "filtered_data_win = filter_osquery_data(extract_df_win)\n",
    "print(filtered_data_win.shape)"
   ]
  },
  {
   "cell_type": "markdown",
   "metadata": {},
   "source": [
    "Anonymize the data and remove the Data column."
   ]
  },
  {
   "cell_type": "code",
   "execution_count": null,
   "metadata": {
    "tags": []
   },
   "outputs": [],
   "source": [
    "print(filtered_data_win.columns)\n",
    "filtered_data_win_anon = anonymize_data(filtered_data_win)\n",
    "print(filtered_data_win_anon.columns)"
   ]
  },
  {
   "cell_type": "markdown",
   "metadata": {},
   "source": [
    "Save CSV with only basic filtering"
   ]
  },
  {
   "cell_type": "code",
   "execution_count": null,
   "metadata": {
    "tags": []
   },
   "outputs": [],
   "source": [
    "print(filtered_data_win_anon.shape)\n",
    "filtered_data_win_anon.to_csv(location + '\\\\CSV\\\\data_for_graphs_full_windows.csv',index=False)"
   ]
  },
  {
   "cell_type": "markdown",
   "metadata": {},
   "source": [
    "Create DataFrame with only duplicata data.  \n",
    "Save CSV with duplicate filtering."
   ]
  },
  {
   "cell_type": "code",
   "execution_count": null,
   "metadata": {
    "tags": []
   },
   "outputs": [],
   "source": [
    "filtered_data_win_anon_dup = get_dup_data(filtered_data_win)\n",
    "print(filtered_data_win_anon_dup.shape)\n",
    "filtered_data_win_anon_dup.to_csv(location + '\\\\CSV\\\\data_for_graphs_dup_windows.csv',index=False)"
   ]
  },
  {
   "cell_type": "markdown",
   "metadata": {},
   "source": [
    "### Linux\n",
    "Create a DataFrame from the data extracted from Osquery."
   ]
  },
  {
   "cell_type": "code",
   "execution_count": null,
   "metadata": {
    "tags": []
   },
   "outputs": [],
   "source": [
    "data_extract_lin = osquery_data_extract(pl)\n",
    "extract_df_lin = pd.DataFrame([t for lst in data_extract_lin for t in lst], columns = ['Table.Column','Data'])\n",
    "print(extract_df_lin.shape)"
   ]
  },
  {
   "cell_type": "markdown",
   "metadata": {},
   "source": [
    "Make Table and Column columns, remove empty or NULL entries.  \n",
    "Filter out all entries with 2 or less characters in the Data field, these entries are too generic to make good joins."
   ]
  },
  {
   "cell_type": "code",
   "execution_count": null,
   "metadata": {
    "tags": []
   },
   "outputs": [],
   "source": [
    "print(extract_df_lin.shape)\n",
    "filtered_data_lin = filter_osquery_data(extract_df_lin)\n",
    "print(filtered_data_lin.shape)"
   ]
  },
  {
   "cell_type": "markdown",
   "metadata": {},
   "source": [
    "Anonymize the data and remove the Data column."
   ]
  },
  {
   "cell_type": "code",
   "execution_count": null,
   "metadata": {
    "tags": []
   },
   "outputs": [],
   "source": [
    "print(filtered_data_lin.columns)\n",
    "filtered_data_lin_anon = anonymize_data(filtered_data_lin)\n",
    "print(filtered_data_lin_anon.columns)"
   ]
  },
  {
   "cell_type": "markdown",
   "metadata": {},
   "source": [
    "Save CSV with only basic filtering"
   ]
  },
  {
   "cell_type": "code",
   "execution_count": null,
   "metadata": {},
   "outputs": [],
   "source": [
    "print(filtered_data_lin_anon.shape)\n",
    "filtered_data_lin_anon.to_csv(location + '\\\\CSV\\\\data_for_graphs_full_linux.csv',index=False)"
   ]
  },
  {
   "cell_type": "markdown",
   "metadata": {},
   "source": [
    "Create DataFrame with only duplicata data.  \n",
    "Save CSV with duplicate filtering."
   ]
  },
  {
   "cell_type": "code",
   "execution_count": null,
   "metadata": {
    "tags": []
   },
   "outputs": [],
   "source": [
    "filtered_data_lin_anon_dup = get_dup_data(filtered_data_lin)\n",
    "print(filtered_data_lin_anon_dup.shape)\n",
    "filtered_data_lin_anon_dup.to_csv(location + '\\\\CSV\\\\data_for_graphs_dup_linux.csv',index=False)"
   ]
  }
 ],
 "metadata": {
  "kernelspec": {
   "display_name": "osquery_graph_venv",
   "language": "python",
   "name": "osquery_graph_venv"
  },
  "language_info": {
   "codemirror_mode": {
    "name": "ipython",
    "version": 3
   },
   "file_extension": ".py",
   "mimetype": "text/x-python",
   "name": "python",
   "nbconvert_exporter": "python",
   "pygments_lexer": "ipython3",
   "version": "3.7.4"
  }
 },
 "nbformat": 4,
 "nbformat_minor": 4
}