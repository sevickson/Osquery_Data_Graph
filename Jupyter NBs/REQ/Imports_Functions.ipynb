{
 "cells": [
  {
   "cell_type": "code",
   "execution_count": null,
   "metadata": {},
   "outputs": [],
   "source": [
    "from ipywidgets import interactive\n",
    "import getpass, requests, os, pathlib, shutil\n",
    "# Standard modules to use and manipulate dataframes\n",
    "import pandas as pd, numpy as np"
   ]
  },
  {
   "cell_type": "code",
   "execution_count": null,
   "metadata": {},
   "outputs": [],
   "source": [
    "#General\n",
    "hname = \"osquery.io\"\n",
    "location = %pwd \n",
    "#Windows\n",
    "twlocation = location + \"\\\\table_data_win\"\n",
    "pw = pathlib.Path(twlocation)\n",
    "#extra \"\" on purpose because it needs to pass this argument as-is to commandline\n",
    "osquery_w_location = '\"C:\\Program Files\\osquery\\osqueryi.exe\"'\n",
    "#Linux\n",
    "#maybe https://gist.github.com/parente/b6ee0efe141822dfa18b6feeda0a45e5 ??\n",
    "osquery_l_location = !wsl -d Ubuntu which osqueryi\n",
    "osquery_l_location = ''.join(osquery_l_location)\n",
    "tllocation = location + \"/table_data_lnx\"\n",
    "pl = pathlib.Path(tllocation)\n",
    "lnx_osq = ''\n",
    "#WSL\n",
    "twsllocation = location + \"\\\\table_data_wsl\"\n",
    "pwsl = pathlib.Path(twsllocation)\n",
    "VM_Name = ''\n",
    "wsl_osq = 'wsl -d'+' '+VM_Name+' '\n",
    "win_osq = '\"C:\\Program Files\\osquery\\\\\"'\n"
   ]
  },
  {
   "cell_type": "code",
   "execution_count": null,
   "metadata": {},
   "outputs": [],
   "source": [
    "def installed_distro():\n",
    "#maybe https://gist.github.com/parente/b6ee0efe141822dfa18b6feeda0a45e5 ??\n",
    "    #Create a list of installed Linux distributions\n",
    "    distro_lst = !wsl --list -q\n",
    "    #Remove NULL and empty strings from the list\n",
    "    distro_lst = [d.replace('\\x00', '') for d in distro_lst]\n",
    "    distro_lst = list(filter(None, distro_lst))\n",
    "    return(distro_lst)\n",
    "\n",
    "def get_installed(Distro):\n",
    "    #Just a small function to be used to return the distibution chosen in the `interactive`\n",
    "    return(Distro)\n",
    "\n",
    "distro_dd = interactive(get_installed, Distro=installed_distro())"
   ]
  },
  {
   "cell_type": "code",
   "execution_count": null,
   "metadata": {},
   "outputs": [],
   "source": [
    "def create_folder(p,tlocation):\n",
    "    #Create folder for the tables\n",
    "    try:\n",
    "        p.mkdir()\n",
    "    except:\n",
    "        print (\"Creation of the directory %s failed, location probably already exists\" % tlocation)\n",
    "    else:\n",
    "        print (\"Successfully created the directory %s \" % tlocation)"
   ]
  },
  {
   "cell_type": "code",
   "execution_count": null,
   "metadata": {},
   "outputs": [],
   "source": [
    "def install_on_linux(os_osq):\n",
    "    !{os_osq} sudo apt-get update\n",
    "    !{os_osq} sudo apt-get -y install gnupg software-properties-common\n",
    "    OSQUERY_KEY='1484120AC4E9F8A1A577AEEE97A80C63C9D8B80B'\n",
    "    !{os_osq} sudo apt-key adv --keyserver hkp://keyserver.ubuntu.com:80 --recv-keys {OSQUERY_KEY}\n",
    "    !{os_osq} sudo add-apt-repository 'deb [arch=amd64] https://pkg.osquery.io/deb deb main'\n",
    "    !{os_osq} sudo apt-get update\n",
    "    !{os_osq} sudo apt-get -y install osquery"
   ]
  },
  {
   "cell_type": "code",
   "execution_count": null,
   "metadata": {},
   "outputs": [],
   "source": [
    "#For using sudo with password, example\n",
    "#!{os_osq}echo {password} ^| sudo -S apt-get update\n",
    "#!{os_osq}echo {password} ^| sudo -S apt-get -y install osquery"
   ]
  },
  {
   "cell_type": "code",
   "execution_count": null,
   "metadata": {},
   "outputs": [],
   "source": [
    "def install_osquery_wsl_linux(os_osq):\n",
    "    if \"wsl\" in os_osq:\n",
    "        os_osq = 'wsl -d '+VM_Name+' '\n",
    "        osq_command = !{os_osq}which osqueryi\n",
    "        if not osq_command.spstr:\n",
    "            install_on_linux(os_osq)\n",
    "        else:\n",
    "            !{os_osq}osqueryi --version\n",
    "            print(\"Osquery already installed\")\n",
    "    elif shutil.which(\"osqueryi\") is None:\n",
    "        install_on_linux(os_osq)\n",
    "    else:\n",
    "        !{os_osq}osqueryi --version\n",
    "        print(\"Osquery already installed\")"
   ]
  },
  {
   "cell_type": "code",
   "execution_count": null,
   "metadata": {},
   "outputs": [],
   "source": [
    "def install_osquery_windows(win_osq):\n",
    "    try:\n",
    "        !{win_osq}osqueryi --version\n",
    "        print(\"Osquery already installed\")\n",
    "    except:\n",
    "        version = \"4.3.0\"\n",
    "        url = f'https://pkg.osquery.io/windows/osquery-{version}.msi'\n",
    "        #First find name of file to be used for installing\n",
    "        if url.find('/'):\n",
    "            osquery_filename = url.rsplit('/', 1)[1]\n",
    "            #Download file to current location\n",
    "            r = requests.get(url, allow_redirects=True)\n",
    "            open(osquery_filename, 'wb').write(r.content)\n",
    "        #Install the Osquery MSI without interaction and also write out a log file in the same location to check if anything went wrong.\n",
    "        !msiexec /i $osquery_filename /quiet /log \"osquery-install.log\""
   ]
  },
  {
   "cell_type": "code",
   "execution_count": null,
   "metadata": {},
   "outputs": [],
   "source": [
    "def osquery_tables_os(os_osq):\n",
    "    if \"wsl\" in os_osq:\n",
    "        os_osq = 'wsl -d'+' '+VM_Name+' '\n",
    "        osq_tables = !{os_osq}osqueryi .tables\n",
    "        osq_tables = osq_tables.fields(1)\n",
    "    else:\n",
    "        #pass\n",
    "        osq_tables = !{os_osq}osqueryi .tables\n",
    "        osq_tables = osq_tables.fields(1)\n",
    "    return(osq_tables)"
   ]
  },
  {
   "cell_type": "code",
   "execution_count": null,
   "metadata": {},
   "outputs": [],
   "source": [
    "osquery_tables = ['osquery_events','osquery_extensions','osquery_flags','osquery_info','osquery_packs','osquery_registry','osquery_schedule']\n",
    "curl_tables = ['curl','curl_certificate']\n",
    "\n",
    "where_tables_l = ['elf_dynamic','elf_info','elf_sections','elf_segments','elf_symbols','file','hash','magic','yara']\n",
    "#Tables that are event tables or tables that have not uniform WHERE constraints\n",
    "error_tables_l = ['file_events','hardware_events','process_events','process_file_events','selinux_events','socket_events','syslog_events','user_events','yara_events','carves','device_file','device_partitions','docker_container_fs_changes','docker_container_processes','docker_container_stats','lxd_instance_config','lxd_instance_devices','prometheus_metrics','device_hash','lldp_neighbors','smart_drive_info','carbon_black_info','augeas']\n",
    "\n",
    "where_tables_w = ['authenticode','file','hash','ntfs_acl_permissions']\n",
    "#Tables that are event tables or tables that have not uniform WHERE constraints\n",
    "error_tables_w = ['ntfs_journal_events','powershell_events','windows_events','carves','carbon_black_info','chocolatey_packages']"
   ]
  },
  {
   "cell_type": "code",
   "execution_count": null,
   "metadata": {},
   "outputs": [],
   "source": [
    "def run_on_wsl_linux(os_osqr,tables,tlocation):\n",
    "    for wt in tables:\n",
    "        if wt not in error_tables_l and wt not in osquery_tables:\n",
    "            flocation = tlocation + wt \n",
    "            if wt in curl_tables:\n",
    "                if wt == 'curl':\n",
    "                    command = '\"SELECT * from '+wt+' WHERE url = \\'https://'+hname+'\\';\"'\n",
    "                    if \"wsl\" in os_osqr:\n",
    "                        !{os_osqr} sudo osqueryi {command} --json > {flocation}.json\n",
    "                    else:\n",
    "                        !$os_osqr sudo osqueryi $command --json > $flocation'.json'\n",
    "                else:\n",
    "                    command = '\"SELECT * from '+wt+' WHERE hostname = \\''+hname+'\\';\"'\n",
    "                    if \"wsl\" in os_osqr:\n",
    "                        !{os_osqr} sudo osqueryi {command} --json > {flocation}.json\n",
    "                    else:\n",
    "                        !$os_osqr sudo osqueryi $command --json > $flocation'.json'\n",
    "            elif wt in where_tables_l:\n",
    "                command = '\"SELECT * from '+wt+' WHERE path = \\''+osquery_l_location+'\\';\"'\n",
    "                if \"wsl\" in os_osqr:\n",
    "                    !{os_osqr} sudo osqueryi {command} --json > {flocation}.json\n",
    "                else:\n",
    "                    !$os_osqr sudo osqueryi $command --json > $flocation'.json'\n",
    "            else:\n",
    "                command = '\"SELECT * from '+wt+';\"'\n",
    "                if \"wsl\" in os_osqr:\n",
    "                    !{os_osqr} sudo osqueryi {command} --json > {flocation}.json\n",
    "                else:\n",
    "                    !$os_osqr sudo osqueryi $command --json > $flocation'.json'"
   ]
  },
  {
   "cell_type": "code",
   "execution_count": null,
   "metadata": {},
   "outputs": [],
   "source": [
    "def run_osquery_wsl_linux(os_osq,p,tables,tlocation):#,password):\n",
    "    create_folder(p,tlocation)\n",
    "    #limit = 50\n",
    "    if \"wsl\" in os_osq:\n",
    "        os_osqr = 'wsl -d'+' '+VM_Name+' '\n",
    "        flocation = tlocation + '\\\\' \n",
    "        run_on_wsl_linux(os_osqr,tables,flocation)\n",
    "    else:\n",
    "        os_osqr = os_osq\n",
    "        flocation = tlocation + '/' \n",
    "        run_on_wsl_linux(os_osqr,tables,flocation)"
   ]
  },
  {
   "cell_type": "code",
   "execution_count": null,
   "metadata": {},
   "outputs": [],
   "source": [
    "def run_osquery_windows(p,tables,tlocation):\n",
    "    create_folder(p,tlocation)\n",
    "    osquery_w_location = '\"C:\\Program Files\\osquery\\osqueryi.exe\"'\n",
    "    #used specifically for the queries, otherwise issues with '' and \"\"\n",
    "    osquery_bin = \"C:\\Program Files\\osquery\\osqueryi.exe\"\n",
    "    limit = 50\n",
    "    for wt in tables:\n",
    "        if wt not in error_tables_w and wt not in osquery_tables:\n",
    "            flocation = tlocation + '\\\\' + wt\n",
    "            if wt in curl_tables:\n",
    "                if wt == 'curl':\n",
    "                    !{osquery_w_location} \"SELECT * from {wt} WHERE url = 'https://{hname}';\" --json > {flocation}.json\n",
    "                else:\n",
    "                    !{osquery_w_location} \"SELECT * from {wt} WHERE hostname = '{hname}';\" --json > {flocation}.json\n",
    "            elif wt in where_tables_w:\n",
    "                !{osquery_w_location} \"SELECT * from {wt} WHERE path = '{osquery_bin}';\" --json > {flocation}.json #LIMIT {limit}\n",
    "            else:\n",
    "                !{osquery_w_location} \"SELECT * from {wt};\" --json > {flocation}.json #LIMIT {limit}\n",
    "        else:\n",
    "            pass"
   ]
  },
  {
   "cell_type": "code",
   "execution_count": null,
   "metadata": {},
   "outputs": [],
   "source": [
    "def osquery_data_extract(p):\n",
    "    data_columns = []\n",
    "    for path in p.rglob(\"*.json\"):\n",
    "        os_t = path.stem\n",
    "        data = pd.read_json(path, orient='records', encoding='ANSI')\n",
    "        data = data.add_prefix(os_t+'.')\n",
    "        for i in range(0, data.shape[0]):\n",
    "            column_data = list(data.columns.values)\n",
    "            value_data = list(data.values[i])\n",
    "            column_value_data = list(zip(column_data,value_data))\n",
    "            data_columns.append(column_value_data)\n",
    "    return(data_columns)"
   ]
  },
  {
   "cell_type": "code",
   "execution_count": null,
   "metadata": {},
   "outputs": [],
   "source": [
    "def filter_osquery_data(df):\n",
    "    #Split Table.Column into separate columns\n",
    "    temp_table = df['Table.Column'].str.split(\".\", n = 1, expand = True)\n",
    "    df['Table'] = temp_table[0]\n",
    "    df['Column'] = temp_table[1]\n",
    "    df = df[['Table','Table.Column','Column','Data']]\n",
    "\n",
    "    #Remove null and empty data fields\n",
    "    extract_df_clean = df[(df['Data'].notnull()) & (df['Data'] != '')]\n",
    "    extract_df_clean.drop_duplicates(keep='first', inplace=True) \n",
    "\n",
    "    #Filter out all entries with 2 or less characters in the Data field, these entries are too general to make good joins\n",
    "    extract_df_clean_filter = extract_df_clean[extract_df_clean.Data.map(str).apply(len) > 2]\n",
    "    return(extract_df_clean_filter)"
   ]
  },
  {
   "cell_type": "code",
   "execution_count": null,
   "metadata": {},
   "outputs": [],
   "source": [
    "def anonymize_data(df):\n",
    "    #Anonimze Data column, create new column for now, drop Data later\n",
    "    extract_df_clean_full = df\n",
    "    extract_df_clean_full['anon'] = pd.factorize(extract_df_clean_full.Data)[0]\n",
    "    extract_df_clean_full = extract_df_clean_full[extract_df_clean_full.anon != -1]\n",
    "    #Drop data to anonymize the table completely\n",
    "    extract_df_clean_full.drop(columns=['Data'],inplace=True)\n",
    "    return(extract_df_clean_full)"
   ]
  },
  {
   "cell_type": "code",
   "execution_count": null,
   "metadata": {},
   "outputs": [],
   "source": [
    "def get_dup_data(df):\n",
    "    extract_df_clean_filter_dup = df[df.duplicated(subset='Data', keep=False)]\n",
    "    extract_df_clean_filter_dup_anon = anonymize_data(extract_df_clean_filter_dup)\n",
    "    return(extract_df_clean_filter_dup_anon)"
   ]
  }
 ],
 "metadata": {
  "language_info": {
   "codemirror_mode": {
    "name": "ipython",
    "version": 3
   },
   "file_extension": ".py",
   "mimetype": "text/x-python",
   "name": "python",
   "nbconvert_exporter": "python",
   "pygments_lexer": "ipython3",
   "version": "3.7.4-final"
  },
  "orig_nbformat": 2,
  "kernelspec": {
   "name": "python3",
   "display_name": "Python 3"
  }
 },
 "nbformat": 4,
 "nbformat_minor": 2
}