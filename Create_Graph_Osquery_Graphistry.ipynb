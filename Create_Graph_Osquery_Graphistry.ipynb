{
 "cells": [
  {
   "cell_type": "markdown",
   "metadata": {},
   "source": [
    "## Install packages if needed"
   ]
  },
  {
   "cell_type": "code",
   "execution_count": null,
   "metadata": {
    "tags": []
   },
   "outputs": [],
   "source": [
    "import shutil\n",
    "if shutil.which(\"python3\") is None:\n",
    "    !python -m pip install -q --upgrade --user pip\n",
    "    !python -m pip install -q --upgrade --user -r requirements.txt \n",
    "else:\n",
    "    !python3 -m pip install -q --upgrade --user pip\n",
    "    !python3 -m pip install -q --upgrade --user -r requirements.txt "
   ]
  },
  {
   "cell_type": "markdown",
   "metadata": {},
   "source": [
    "Set global variables"
   ]
  },
  {
   "cell_type": "code",
   "execution_count": null,
   "metadata": {},
   "outputs": [],
   "source": [
    "%load_ext dotenv\n",
    "# Use find_dotenv to locate the file\n",
    "%dotenv"
   ]
  },
  {
   "cell_type": "code",
   "execution_count": null,
   "metadata": {},
   "outputs": [],
   "source": [
    "#For graphistry\n",
    "api_username = os.getenv(\"API3_USERNAME\")\n",
    "api_pwd = os.getenv(\"API3_PWD\") \n",
    "api1_key = os.getenv(\"API1_KEY\")"
   ]
  },
  {
   "cell_type": "code",
   "execution_count": null,
   "metadata": {},
   "outputs": [],
   "source": [
    "%run REQ\\\\Imports_Functions_Graph.ipynb"
   ]
  },
  {
   "cell_type": "code",
   "execution_count": null,
   "metadata": {},
   "outputs": [],
   "source": [
    "graphistry.__version__"
   ]
  },
  {
   "cell_type": "markdown",
   "metadata": {},
   "source": [
    "## Linux"
   ]
  },
  {
   "cell_type": "code",
   "execution_count": null,
   "metadata": {
    "tags": []
   },
   "outputs": [],
   "source": [
    "extract_df_lnx_dup = read_csv_data('data_total_dup_LNX.csv')\n",
    "extract_df_lnx_dup.shape\n",
    "intersect_df_lnx_dup = intersect(extract_df_lnx_dup)\n",
    "intersect_df_lnx_dup.shape"
   ]
  },
  {
   "cell_type": "markdown",
   "metadata": {},
   "source": [
    "## Windows"
   ]
  },
  {
   "cell_type": "code",
   "execution_count": null,
   "metadata": {
    "tags": []
   },
   "outputs": [],
   "source": [
    "extract_df_win_dup = read_csv_data('data_total_dup_WIN.csv')\n",
    "extract_df_win_dup.shape\n",
    "intersect_df_win_dup = intersect(extract_df_win_dup)\n",
    "intersect_df_win_dup.shape"
   ]
  },
  {
   "cell_type": "markdown",
   "metadata": {},
   "source": [
    "# GRAPHS"
   ]
  },
  {
   "cell_type": "markdown",
   "metadata": {},
   "source": [
    "## Graphistry APIv1\n",
    "In the graph toggle the histogram for `point:​pointIcon` and toggle \"Show using icon\" to get the icons in the graph.\n",
    "API 1.0 works for now best."
   ]
  },
  {
   "cell_type": "markdown",
   "metadata": {},
   "source": [
    "## Linux Graph"
   ]
  },
  {
   "cell_type": "code",
   "execution_count": null,
   "metadata": {
    "tags": []
   },
   "outputs": [],
   "source": [
    "graphistry_graph(1,intersect_df_lnx_dup) "
   ]
  },
  {
   "cell_type": "markdown",
   "metadata": {},
   "source": [
    "## Windows Graph"
   ]
  },
  {
   "cell_type": "code",
   "execution_count": null,
   "metadata": {
    "tags": []
   },
   "outputs": [],
   "source": [
    "graphistry_graph(1,intersect_df_win_dup) "
   ]
  },
  {
   "cell_type": "markdown",
   "metadata": {},
   "source": [
    "## Graphistry APIv3"
   ]
  },
  {
   "cell_type": "markdown",
   "metadata": {},
   "source": [
    "## Linux Graph"
   ]
  },
  {
   "cell_type": "code",
   "execution_count": null,
   "metadata": {
    "tags": []
   },
   "outputs": [],
   "source": [
    "graphistry_graph(3,intersect_df_lnx_dup) "
   ]
  },
  {
   "cell_type": "markdown",
   "metadata": {},
   "source": [
    "## Windows Graph"
   ]
  },
  {
   "cell_type": "code",
   "execution_count": null,
   "metadata": {
    "tags": []
   },
   "outputs": [],
   "source": [
    "graphistry_graph(3,intersect_df_win_dup) "
   ]
  },
  {
   "cell_type": "markdown",
   "metadata": {},
   "source": [
    "### References:\n",
    "- https://minimizeuncertainty.com/post/graph-visualization-of-the-mueller-report-with-spacy-and-pyvis/  \n",
    "- https://stackoverflow.com/questions/56764504/how-to-insert-a-image-in-pyvis-python-network-graph  \n",
    "- https://stackoverflow.com/questions/31567401/get-the-same-hash-value-for-a-pandas-dataframe-each-time/41715431  \n",
    "- https://github.com/graphistry/pygraphistry  \n",
    "- https://pbpython.com/currency-cleanup.html\n",
    "- http://veekaybee.github.io/2020/02/25/secrets/"
   ]
  }
 ],
 "metadata": {
  "kernelspec": {
   "display_name": "Python 3",
   "language": "python",
   "name": "python3"
  },
  "language_info": {
   "codemirror_mode": {
    "name": "ipython",
    "version": 3
   },
   "file_extension": ".py",
   "mimetype": "text/x-python",
   "name": "python",
   "nbconvert_exporter": "python",
   "pygments_lexer": "ipython3",
   "version": "3.7.4-final"
  }
 },
 "nbformat": 4,
 "nbformat_minor": 4
}