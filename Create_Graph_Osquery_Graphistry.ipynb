{
 "cells": [
  {
   "cell_type": "markdown",
   "metadata": {},
   "source": [
    "## Install packages if needed"
   ]
  },
  {
   "cell_type": "code",
   "execution_count": null,
   "metadata": {
    "tags": []
   },
   "outputs": [],
   "source": [
    "import shutil\n",
    "if shutil.which(\"python3\") is None:\n",
    "    !python -m pip install -q --upgrade --user pip\n",
    "    !python -m pip install -q --upgrade --user -r requirements.txt \n",
    "else:\n",
    "    !python3 -m pip install -q --upgrade --user pip\n",
    "    !python3 -m pip install -q --upgrade --user -r requirements.txt "
   ]
  },
  {
   "cell_type": "code",
   "execution_count": 10,
   "metadata": {
    "tags": []
   },
   "outputs": [
    {
     "output_type": "stream",
     "name": "stdout",
     "text": "The dotenv extension is already loaded. To reload it, use:\n  %reload_ext dotenv\n"
    }
   ],
   "source": [
    "%run \"./REQ/Imports_Functions_Graph.ipynb\""
   ]
  },
  {
   "cell_type": "code",
   "execution_count": null,
   "metadata": {},
   "outputs": [],
   "source": [
    "graphistry.__version__"
   ]
  },
  {
   "cell_type": "markdown",
   "metadata": {},
   "source": [
    "## Linux"
   ]
  },
  {
   "cell_type": "code",
   "execution_count": 11,
   "metadata": {
    "tags": []
   },
   "outputs": [
    {
     "output_type": "stream",
     "name": "stdout",
     "text": "count unique                        top freq\nhash                                                             \n27061440110600698       12     12            user_groups.uid    1\n28591711626930854        9      9            user_groups.uid    1\n28918702707527953        2      2  process_memory_map.offset    1\n42423549685269357       16      4            shadow.username    4\n67362774304227936        2      2          deb_packages.size    1\n...                    ...    ...                        ...  ...\n18279917800647916619   124      4              mounts.device   31\n18319565880192235403     2      2          etc_services.name    1\n18352406538849945943     3      3       etc_services.aliases    1\n18431559325407561365    15     15            user_groups.uid    1\n18446637408761261735     2      2           process_envs.key    1\n\n[788 rows x 4 columns]\n"
    },
    {
     "output_type": "execute_result",
     "data": {
      "text/plain": "(9487, 4)"
     },
     "metadata": {},
     "execution_count": 11
    }
   ],
   "source": [
    "extract_df_lnx_dup = read_csv_data('data_total_dup_LNX.csv')\n",
    "extract_df_lnx_dup.shape\n",
    "intersect_df_lnx_dup = intersect(extract_df_lnx_dup)\n",
    "intersect_df_lnx_dup.shape"
   ]
  },
  {
   "cell_type": "markdown",
   "metadata": {},
   "source": [
    "## Windows"
   ]
  },
  {
   "cell_type": "code",
   "execution_count": null,
   "metadata": {
    "tags": []
   },
   "outputs": [],
   "source": [
    "extract_df_win_dup = read_csv_data('data_total_dup_WIN.csv')\n",
    "extract_df_win_dup.shape\n",
    "intersect_df_win_dup = intersect(extract_df_win_dup)\n",
    "intersect_df_win_dup.shape"
   ]
  },
  {
   "cell_type": "markdown",
   "metadata": {},
   "source": [
    "# GRAPHS"
   ]
  },
  {
   "cell_type": "markdown",
   "metadata": {},
   "source": [
    "## Graphistry APIv1\n",
    "In the graph toggle the histogram for `point:​pointIcon` and toggle \"Show using icon\" to get the icons in the graph.\n",
    "API 1.0 works for now best."
   ]
  },
  {
   "cell_type": "markdown",
   "metadata": {},
   "source": [
    "## Linux Graph"
   ]
  },
  {
   "cell_type": "code",
   "execution_count": null,
   "metadata": {
    "tags": []
   },
   "outputs": [],
   "source": [
    "graphistry_graph(1,intersect_df_lnx_dup,api1_key,api_username,api_pwd) "
   ]
  },
  {
   "cell_type": "markdown",
   "metadata": {},
   "source": [
    "## Windows Graph"
   ]
  },
  {
   "cell_type": "code",
   "execution_count": null,
   "metadata": {
    "tags": []
   },
   "outputs": [],
   "source": [
    "graphistry_graph(1,intersect_df_win_dup,api1_key,api_username,api_pwd) "
   ]
  },
  {
   "cell_type": "markdown",
   "metadata": {},
   "source": [
    "## Graphistry APIv3"
   ]
  },
  {
   "cell_type": "markdown",
   "metadata": {},
   "source": [
    "## Linux Graph"
   ]
  },
  {
   "cell_type": "code",
   "execution_count": null,
   "metadata": {
    "tags": []
   },
   "outputs": [],
   "source": [
    "graphistry_graph(3,intersect_df_lnx_dup,api1_key,api_username,api_pwd) "
   ]
  },
  {
   "cell_type": "markdown",
   "metadata": {},
   "source": [
    "## Windows Graph"
   ]
  },
  {
   "cell_type": "code",
   "execution_count": null,
   "metadata": {
    "tags": []
   },
   "outputs": [],
   "source": [
    "graphistry_graph(3,intersect_df_win_dup,api1_key,api_username,api_pwd) "
   ]
  },
  {
   "cell_type": "markdown",
   "metadata": {},
   "source": [
    "### References:\n",
    "- https://minimizeuncertainty.com/post/graph-visualization-of-the-mueller-report-with-spacy-and-pyvis/  \n",
    "- https://stackoverflow.com/questions/56764504/how-to-insert-a-image-in-pyvis-python-network-graph  \n",
    "- https://stackoverflow.com/questions/31567401/get-the-same-hash-value-for-a-pandas-dataframe-each-time/41715431  \n",
    "- https://github.com/graphistry/pygraphistry  \n",
    "- https://pbpython.com/currency-cleanup.html\n",
    "- http://veekaybee.github.io/2020/02/25/secrets/"
   ]
  }
 ],
 "metadata": {
  "kernelspec": {
   "display_name": "Python 3",
   "language": "python",
   "name": "python3"
  },
  "language_info": {
   "codemirror_mode": {
    "name": "ipython",
    "version": 3
   },
   "file_extension": ".py",
   "mimetype": "text/x-python",
   "name": "python",
   "nbconvert_exporter": "python",
   "pygments_lexer": "ipython3",
   "version": "3.7.4-final"
  }
 },
 "nbformat": 4,
 "nbformat_minor": 4
}